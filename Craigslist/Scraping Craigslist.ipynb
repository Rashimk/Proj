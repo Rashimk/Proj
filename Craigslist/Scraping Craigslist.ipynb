{
 "cells": [
  {
   "cell_type": "markdown",
   "metadata": {},
   "source": [
    "# Creating a pipeline to extract data on a regular basis from Craigslist from the listed US Cities:"
   ]
  },
  {
   "cell_type": "markdown",
   "metadata": {},
   "source": [
    "### PREPARE REQUIRED LIBRARIES"
   ]
  },
  {
   "cell_type": "code",
   "execution_count": 572,
   "metadata": {
    "collapsed": true
   },
   "outputs": [],
   "source": [
    "import pandas as pd\n",
    "import numpy as np\n",
    "from scrapy.selector import Selector\n",
    "from scrapy.http import HtmlResponse\n",
    "import requests\n",
    "\n",
    "import craigslist\n",
    "from craigslist import CraigslistPersonals"
   ]
  },
  {
   "cell_type": "markdown",
   "metadata": {},
   "source": [
    "#### List of cities I am interested in "
   ]
  },
  {
   "cell_type": "code",
   "execution_count": 573,
   "metadata": {
    "collapsed": false
   },
   "outputs": [],
   "source": [
    "\n",
    "cities = ['seattle', 'sfbay', 'honolulu','losangeles', 'sandiego', 'newyork', 'boston', 'miami', 'austin', 'houston']"
   ]
  },
  {
   "cell_type": "markdown",
   "metadata": {},
   "source": [
    "### Writing a function that extracts the geotag and the url using craigslist package which will be later used to scrape the craigslist for other content"
   ]
  },
  {
   "cell_type": "code",
   "execution_count": 568,
   "metadata": {
    "collapsed": false
   },
   "outputs": [],
   "source": [
    "def extraction(site):\n",
    "    \n",
    "    cl = CraigslistPersonals(site = site, category='mis')\n",
    "    results = cl.get_results(sort_by='newest', geotagged= True , limit = 10)\n",
    "    \n",
    "    title = []\n",
    "    has_image = []\n",
    "    url = []\n",
    "    geo_tag = []\n",
    "    where = []\n",
    "    ids = []\n",
    "    datetimes = []\n",
    "    has_maps = []\n",
    "\n",
    "    for result in results:\n",
    "        title.append(result['name'])\n",
    "        has_image.append(result['has_image'])\n",
    "        url.append(result['url'])\n",
    "        geo_tag.append(result['geotag'])\n",
    "        where.append(result['where'])\n",
    "        ids.append(result['id'])\n",
    "        datetimes.append(result['datetime'])\n",
    "        has_maps.append(result['has_map'])\n",
    "        print result\n",
    "    "
   ]
  },
  {
   "cell_type": "code",
   "execution_count": 569,
   "metadata": {
    "collapsed": false
   },
   "outputs": [],
   "source": [
    "#  Calling the functions for the required cities necessarily"
   ]
  },
  {
   "cell_type": "code",
   "execution_count": 570,
   "metadata": {
    "collapsed": false
   },
   "outputs": [
    {
     "name": "stdout",
     "output_type": "stream",
     "text": [
      "{'name': u'Co-Worker...you flirt with reckless abandon.... - w4m', 'has_image': False, 'url': u'http://sfbay.craigslist.org/eby/mis/5974385062.html', 'has_map': True, 'price': None, 'geotag': (37.910295, -122.285831), 'where': u'richmond / point / annex', 'id': u'5974385062', 'datetime': u'2017-01-24 22:08'}\n",
      "{'name': u'Daniel: waiting for takeout', 'has_image': False, 'url': u'http://sfbay.craigslist.org/sfc/mis/5974382201.html', 'has_map': True, 'price': None, 'geotag': None, 'where': u'inner richmond', 'id': u'5974382201', 'datetime': u'2017-01-24 22:03'}\n",
      "{'name': u'Some men - w4m', 'has_image': False, 'url': u'http://sfbay.craigslist.org/eby/mis/5974376579.html', 'has_map': True, 'price': None, 'geotag': (37.808292, -122.383232), 'where': None, 'id': u'5974376579', 'datetime': u'2017-01-24 22:02'}\n",
      "{'name': u'Our Entangled Connection - w4m', 'has_image': False, 'url': u'http://sfbay.craigslist.org/sfc/mis/5974365154.html', 'has_map': True, 'price': None, 'geotag': None, 'where': None, 'id': u'5974365154', 'datetime': u'2017-01-24 21:57'}\n",
      "{'name': u'Your brilliance consumes me... - w4m', 'has_image': False, 'url': u'http://sfbay.craigslist.org/sfc/mis/5950298312.html', 'has_map': True, 'price': None, 'geotag': None, 'where': u'Union Square', 'id': u'5950298312', 'datetime': u'2017-01-24 21:27'}\n",
      "{'name': u'I love you why dont you love our baby - w4m', 'has_image': False, 'url': u'http://sfbay.craigslist.org/eby/mis/5974345500.html', 'has_map': True, 'price': None, 'geotag': None, 'where': u'Crying inside', 'id': u'5974345500', 'datetime': u'2017-01-24 21:17'}\n",
      "{'name': u'Whole Foods - Geez I was just staring at your boobs - m4w', 'has_image': True, 'url': u'http://sfbay.craigslist.org/eby/mis/5974347468.html', 'has_map': True, 'price': None, 'geotag': None, 'where': u'San Ramon', 'id': u'5974347468', 'datetime': u'2017-01-24 21:05'}\n",
      "{'name': u'Safeway - m4w', 'has_image': False, 'url': u'http://sfbay.craigslist.org/pen/mis/5974345833.html', 'has_map': True, 'price': None, 'geotag': (37.6196, -122.4816), 'where': u'pacifica', 'id': u'5974345833', 'datetime': u'2017-01-24 21:02'}\n",
      "{'name': u'Where oh where has my baby daddy gone - w4m', 'has_image': False, 'url': u'http://sfbay.craigslist.org/eby/mis/5970464410.html', 'has_map': True, 'price': None, 'geotag': None, 'where': u'richmond / point / annex', 'id': u'5970464410', 'datetime': u'2017-01-24 20:56'}\n",
      "{'name': u'Rene - m4w', 'has_image': False, 'url': u'http://sfbay.craigslist.org/sfc/mis/5974323152.html', 'has_map': True, 'price': None, 'geotag': None, 'where': None, 'id': u'5974323152', 'datetime': u'2017-01-24 20:29'}\n"
     ]
    }
   ],
   "source": [
    "extraction(\"sfbay\")\n"
   ]
  },
  {
   "cell_type": "markdown",
   "metadata": {},
   "source": [
    "##### creating a dataframe for the geo_tags"
   ]
  },
  {
   "cell_type": "code",
   "execution_count": 511,
   "metadata": {
    "collapsed": false,
    "scrolled": true
   },
   "outputs": [],
   "source": [
    "df = pd.DataFrame(urls)"
   ]
  },
  {
   "cell_type": "markdown",
   "metadata": {},
   "source": [
    "## Defining a few functions to extract the title, body, who4who and the id using the given urls"
   ]
  },
  {
   "cell_type": "code",
   "execution_count": 512,
   "metadata": {
    "collapsed": true
   },
   "outputs": [],
   "source": [
    "# scraping cities name\n",
    "\n",
    "def missed_title(url):\n",
    "\n",
    "    # initiate request\n",
    "    response = requests.get(i)\n",
    "    HTML = response.text\n",
    "    \n",
    "    # scrape\n",
    "    title = Selector(text=HTML).xpath(\"//span[@class='postingtitletext']/span[@id='titletextonly']/text()\").extract()\n",
    "    return title\n",
    "\n",
    "def missed_body(url):\n",
    "    response = requests.get(i)\n",
    "    HTML = response.text\n",
    "    \n",
    "    # scrape\n",
    "    body = Selector(text=HTML).xpath(\"//section[@id='postingbody']/text()\").extract()\n",
    "    return body\n",
    "\n",
    "def missed_who4who(url):\n",
    "    response = requests.get(i)\n",
    "    HTML = response.text\n",
    "    \n",
    "    # scrape\n",
    "    m4m = Selector(text=HTML).xpath(\"//h2[@class='postingtitle']/span[@class='postingtitletext']/text()\").extract()\n",
    "    return m4m\n",
    "\n",
    "def missed_id(url):\n",
    "    response = requests.get(i)\n",
    "    HTML = response.text\n",
    "    \n",
    "    # scrape\n",
    "    id = Selector(text=HTML).xpath(\"//div[@class='postinginfos']/p[@class='postinginfo'][1]/text()\").extract()\n",
    "    return id\n",
    "    "
   ]
  },
  {
   "cell_type": "code",
   "execution_count": 513,
   "metadata": {
    "collapsed": false,
    "scrolled": false
   },
   "outputs": [],
   "source": [
    "# Writting a for loop to extract the rest of the data required for my data.\n",
    "\n",
    "# Required Lists\n",
    "title = []\n",
    "body = []\n",
    "m4m = []\n",
    "ids = []\n",
    "\n",
    "for i in urls:\n",
    "\n",
    "# Calling the function written before\n",
    "\n",
    "    a = missed_title(i)\n",
    "    b = missed_body(i)\n",
    "    c = missed_who4who(i)\n",
    "    d = missed_id(i)\n",
    "    \n",
    "# Appending the extracted lists on to the lists above\n",
    "    title.append(a)\n",
    "    body.append(b)\n",
    "    m4m.append(c)\n",
    "    ids.append(d)"
   ]
  },
  {
   "cell_type": "markdown",
   "metadata": {},
   "source": [
    "## Lets start cleaning the data"
   ]
  },
  {
   "cell_type": "markdown",
   "metadata": {},
   "source": [
    "### Cleanign the body"
   ]
  },
  {
   "cell_type": "code",
   "execution_count": 514,
   "metadata": {
    "collapsed": true
   },
   "outputs": [],
   "source": [
    "clean = body"
   ]
  },
  {
   "cell_type": "code",
   "execution_count": 515,
   "metadata": {
    "collapsed": true
   },
   "outputs": [],
   "source": [
    "# Cleaning my body section\n",
    "\n",
    "# First using .join to connect at ','\n",
    "cleaning = []\n",
    "for i in clean:\n",
    "    i = ','.join(i)\n",
    "    i = [i]\n",
    "    cleaning.append(i)\n",
    "    "
   ]
  },
  {
   "cell_type": "code",
   "execution_count": 516,
   "metadata": {
    "collapsed": false
   },
   "outputs": [
    {
     "name": "stdout",
     "output_type": "stream",
     "text": [
      "You are so sweet and I just want you to know I love you as much as ever actually even more than ever. I don't claim to understand it all but I did try to explain myself to you as best I could. I'm so sorry for the way things have played-out and it has been tearing me apart although as you said yourself in many ways it has been nice despite everything. I think you know why I was afraid to communicate with you directly. I now think you may have tried to communicate with me numerous times in different ways over a long period of time but I was never sure it was you and for various reasons I was very reluctant to try to find out. The truth is I am in a very difficult and awkward and odd situation and I'm not exactly sure how this is all going to play out. But I have made a commitment to someone else who I care about very much and who I have strung along for a long time. I owe it to this person to at least see things through and see what happens. I have been putting them off largely because I was holding out hope that by some miracle I might still be able to end up with you. I hate having to communicate with you like this and I would prefer to not even have to talk to you over the phone. I'm not sure if or when but one way or the other I really want very much to see your beautiful face in person so we can talk and so I can feel you in my arms. Whatever happens please try not to take anything that happens or has happened too personally as any sort of rejection or disrespect of you. And please know that this has been very difficult for me and that I have never taken any of it lightly and that I always loved you and I always will. Be well my sweet love.\n",
      "Hey guys I want to have some fun today but you must be 100% disease free and you must host I come to you lets have some fun and send me some pictures.call I like to 8 fun 3 and shower 1 and walk around 3 naked and kiss 3 cum on 2 and have a three some 7 hit me 4 up when you see this 3 I want to 9 hang out\n",
      "You're the handsome photographer who took my picture at the women's march last Saturday. I wanted to grab your info so I could have my picture but you ran off! You were pretty ballsy out there getting really close and snapping photos!You were wearing what looked like a navy wool coat with a jean jacket under it. Can I have my picture? And maybe take you out to coffee? :)\n",
      "Your firm shares the same building as mine.  Anyways I was emailing someone when I noticed that you along with three other corporate executives passed by me in one of the common lobbies. And for whatever reasons you must have thought that I took a picture of your ass. I didn't.Because shortly after I sent the email from my phone I noticed that you walked right up to where I was sitting at and then gave me this look like I was some kind of raving lunatic. I was going to say something. However before I could say a word you just walked away from me really quickly.If you are reading this I want to say that you are super cute. And if possible I would like to buy you lunch later on this week.RegardsThe CTO of a company that shares the same building as your firm.\n",
      "Hello. Will be in town next weekend Friday thru Monday for business and looking to meet someone while in town.I am 45 WF bbw 5 ft8 205 long dark/hazel very attractive. Seeking mature man over 40 who is an experienced sensual dominant and knows how to take and control a woman. Looking for an amazing intense exchange where we both get what we crave. You must love to kiss and play and love to give pleasure. Please be local and be able to host if needed. I can also host at local hotel with trust. Please be clean safe sane attractive discreet REAL. Having 420 is a plus. Please send pic and I will reply with mine. Thanks\n",
      "SK I have NOT posted for you in a long long time. I hope you are doing well. I hope you learned to stop stressing over everything and I hope you are enjoying life to the fullest. always your friend A\n",
      "Hey Sara you work at \"the walking company\" at the Sunvalley Mall -- your name is Sara your white and you have a tattoo on your arm - I WANT YOU!!!!! I think your really hot I wanna take you out on a date. e-mail me\n",
      "just wanted to clarify my posting a bit.I dont believe in labels.  I do believe it is quite unfair to term a human being with a condition that is inclusive of certain traits and habits....if these labels were around when i was a kid im sure someone would have attached me with one.   as an adult i can attach myself to many ;-that being said after hearing from close friends of mine about what they believe to be the sociopathic tendencies of a man i started dating (and then in turn fell in love with) i dove into researching their claims....what im finding is that even though termed with a label \"sociopath\" the criteria specified on most sites mirror his exact behavior.  im baffled by this - its all very new to me - and in awe over the behavioral traits listed and then played out in real life.so i guess im wondering - can i get past this now that im pretty sure he is indeed a true sociopath?  cant i just love him for the good things in his soul?  as there are some good things.  granted id definitely have trouble if he hurt someone i loved or if he hurt me....ive mentioned to him that i thought he might be a sociopath; he laughs it off.  what can i do?  im seeking advice. i want to love this person.  obviously i dont want to be hurt....but i do believe that we all need someone in our corner.and we all deserve to be loved.  So I guess Im just seeking something....from someone....to either give me the strength to push through or scare me to the point I run away.  I do believe in energy....and sometimes a slight tilt of the table is all you need to make a move.  i just am tired of stepping on eggshells with myself for knowing this and with him as i see this.  its not fair to either of us.\n",
      "To tell you I care is only a part of what I feel for you Jake.  I want to be loved by you. Like I do you.  Yet I'm not an ex but a new beginning for you.  Touch my heart you did in such a way there is no turning back.  My heart cries out your name.  Won't you answer it..\n",
      "\n",
      "Hey John   ---   Hope you see this. - If you do please write back.   I had a really great time visiting with you after the contest/show at the Powerhouse on Friday.  I didn't want to seem pushy because I could see you were with several friends who were very interested in you but you're a very handsome sweet and sexy guy. We visited for quite a while.  Fun and unusual conversations... I'd really love to stay connected! --- and I definitely want to see you again sometime!\n",
      "A cellular collective electromagnetic biological entropic phenomena of genetic material.  -\"To wherever you are\"- Everything is from dark matter... dark matter lies quantumly with the act of conveying a zero perception... E=mc2 and we are inbred light babies. (sarcasm) m (+ or - )=E/c2 complexing prior via gravity created by a black hole from a (+ or -) star and any electromagnetic waves aka E trapped inside upon collapse. Extrapolation from recent discovery which claims matter can be made from light...I abstracted the following. In other words everything must have started from a point surrounded by absolutely nothing aka there is an outside an inside and an argument. Basically either the matter or antimatter gas cloud of a new forming star one which will produce a black hole which then produces a more complex universe (it is because of the excess of either + or - matter the new universe would possess continuic properties or an evolved form rather than parallel properties. Also the destabilization of a black hole is directly related to its inability to achieve absolute infinite density due to the stars fundamental geometry being the asymmetric explosive crutch it requires the antimatter equivalent component (at equivalent density) to satisfy a complete and stable geometric form and because it is absent and not collapsed the star rapidly expands exactly before ABSOLUTE singularity decaying(shrinking) the black hole itself.) furthermore the dynamics of the evolution \"rather fluid\" of a single celled organism continuously over the course of billions of years to point of me also technically indicates that this would therefore be a 4 dimensional singular conscious being as well with its own separate individuality aka IT (not the clown) could be more plant.. buut probably not(sarcasm...god is not within us all god is us all-similar to human circulation seasons/temp/gradients of thought amongst...again probably NOT). Starting from spectral electromagnetic radiation produced by galactic rotations and stars (helical) acting on the earth like a speaker acting on non-Newtonian fluid pulling up the first structure of a cell filling it simultaneously in with increasingly complex helical structures also the first instance of gender a quantum state which is reciprocated in sexual and non-sexual reproduction luffing off into sub cellular division. this over billions of years. The minute electromagnetic pull after death on the dna moving things of other creatures slowly into place for a fluid movement of me resulting in a perfectly perpendicular of matter to the last point of \"production\" a now \"zero dimensional\" explosive sum a fertilized egg in this case. (sort of like how earths electromagnetic field moves the hands of a compass) this process probably wouldn't be accomplished completely hear on earth...total consolidation and expansion of a new universe would probably be required...so the EM waves you produce up to death mix morph get trapped and collect in all the atoms and electron-wobble in the environment around you (increasingly insufficient energy to move the electrons to the next energy level and make light) pretty far out actually and yet still relatively contained within \"earth\" as the layers of our atmosphere(relatively infinitely many) act as a sort of collection dish. anyways these bobing wobbling moving \"structures\" move precisely however infinitely slight to your original output slowly encompassing the globe the sun which produces spherical waves reflects this exact wobble. The electromagnetic plane waves (you(...when an electromagnetic field decomposes...what it decomposes into...basically sheet version of the field)) now a more mechanical wave in my opinion...as it is the exact wobble and positioning/spacing of the atoms effected in our atmosphere that will be incepted into the exact FORMATION of many different stars--(post reflection (by reflection I mean basically the sun giving those slight bobing wobbling atoms the energy needed to make it to the next energy level and produce EM [\"light\"] which as far as the waveform of the source ie:me is concerned is now near spherical wave [minus the original output source me])--as a sort of electromagnetic carbon copy (suns spherical wave output reflecting off the precise definition of our planet) we need a star which has a solar mass of something like 6...anyways the type that will eventually form black holes(and there's lots of those being produced so no worries)... THE FIRST ONE(black hole) to produce a new universe should be the one you \"phase\" in (the black hole having been nearest infinite quantum entanglement of all parts would cause the waveforms of this new universe galactic rotations/ solar outputs [universally] to be pulling on everything in a way which will quantify a point of continuity)  the rest (other black holes in previous universe [incepted by output]) are parallels and essentially first-time existences... any point after the \"zero dimension\" phase (fertilized egg) mutation occurs and a unique electromagnetic field results corresponding to the new surrounding...MORE COMPLEX...universe...(physicists call them parallel...and are wrong) and all of this may take several blackhole phases to occur depending on how mutated...encompassing you were. ...\"yawn\"...Anyways eventually the amnesia will subside as we evolve. I wonder how long it will take for the collection of someone's lifetime of moments evolving harmonically across this described 5th dimensional subjective space time continuum to turn perpendicular to each other and progress as one single happening. Forming a new color via infinite reflection on a point of relative infinity given the inverse square law. . .? also our bodies motions and sounds have been proven to affect our dna so simply being exposed to a creature which is closely related biologically male to female ( to the point our either x or y chromosomes have at least one point which is exactly the same yielding the fusion effect of sperm and the egg)  who argues via \"subconscious\" (non temporal) output; I am a girl with these exact parts who's had these exact experiences with them WILL minutely infinantdecimally mutate a males dna(just a nudge) and as far as our gender goes which is quantumly compatible only on a point to begin with this male will have to work out the new argument (non temporal [physical dimension] in this case specifically one of the steps leading up to conception) and with only a penis to do it with will come to the biological conclusion penis of vagina aka a further blending of the 2 and becoming female in current relative function. To achieve solution to the problem and in order to stay compatible with both sides of this coin as we do evolve gender flips. Furthermore based on the nature of the first cellular sexual reproduction gender should flip as a result of the cell that was consumed now being programed to attack the consumer...which is a definitive physical event shared between the two...being partially consumed first that is. the original consumer will be working out how to keep from dying via genetic recombination and splitting into its off springs. essentially what this could mean for us is that our cells sexually reproduce and essentially causing us to asexually reproduce in place on top of also being able to sexually reproduce with other \"people\". essentially immortality...we could just stick with the interdimensional quantum displacement of continuity teleportation right? Basically it is a compounding evolutionary function life. Though we evolve harmonically(ish) there are probably infinitely many steps between evolutionary steps. What's the next one? Conclusion: Therefore everything perceived present is not and therefore isn't. Yielding only the concept zero to exist as zero and arguably equal to everything as well as nothing: given the definition applies to disjoint infinite continuity.  BUT INFINITELY SLOWER THAN THIS WAS PRESENTED BY NATURE -personally I think the function generates physical optimism in lue of an otherwise definable abyss - microgravity in the absence of anything else forces the source to define itself by infinite bisection as it would therefore be and otherwise is approaching infinite decimation. a contradiction. filling the space by compounding itself in reflection of what is increasingly mighty (might be) however infinitely (reachably/definably) isn't. A physical paradox! This would slowly give rise to the Guage Bosons (particle physics fundamentals...aka force charges) ie: Photons Gluons Z-Bosons and W-Bosons. and so on and so forth. A very good paradox. -aka dark matter is the inside and dark energy is the infinite argument. From math things grow more imagine the future of what was non biological-interdimensional. -by creating the acute degree for an infinite perception to exist I may have just defined the grounds for the rise of a new cortex. Remember when you said that \"time isn't real\" and I said -\"then quit beating...as if you can the machine man screams if nothing else play the orgasm note at infinity reaching out to octave the pain goes on even if were just dancing in the dark.\"\n",
      "sMiles R. I miss your friendship. Please contact me. Your pen pal D. sMiles R. I miss your friendship. Please contact me. Your pen pal D.\n",
      "You work at the Nike outlet i was there a few weeks ago and you have a beautiful face and lvoely eyes. We made eye contact a bit here and there but i dont know your situation. I was hoping to get you as my cashier to speak to you but didn't happen LOL\n",
      "You had an epically long check out for what looked like one avocado that you then ate at the front window counter.You're very cute I like your style.I've never done this before just thought it'd be a fun try.I was the handsome dude you probably saw checking you out with my friend. Anyway hi! Coffee?\n",
      "Hey thereHi looking to make a new friend! Things and just life in general tend to kind of get \"old\"  and boring at times if you know what I mean. Lets chat lets flirt lets build and enjoy a friendship together shall we?Perhaps you are like myself and missing connection. Let's talk about it and see what happens.This is a \"M for F\" post thank you.\n",
      "I got in the Uber at Clement St big bearded guy and we went through the Presidio. You said hello when I got in but then looked out the window the whole trip. You're adorable but I didn't want to bother you so early in the morning. When I got out I said to you \"Have a great day\" and your smile made my week. Here's to hoping you see this.\n",
      "Hello DIY I thought we were starting a good conversation I would just like to know what happen we are very similar.Thank You your twin.\n",
      "you flagged this? Looking at posts made and timing of this well it's helpfulstop being an ass and call and if it is someone worried about losing her you are really going to have this explode in your face just sayingS~~ I went back through our texts from the beginning of this year through until about May. I was mortified and and disgusted with myself. I was a monster I was worse a physical beating can be preferable to a verbal assault. I looked at the texts and I can't believe my behavior and why I couldn't stop escapes me. In almost all cases you didn't antagonize or escalate my text based attacks. I know what was in my head and heart and what I feared but nothing warranted what you endured. You owe me nothing. Who would pay to live with that. I know why you won't talk to me and I understand why you won't see me.  Of course I hope someday you will but I will not be instigating that. If ever I can do anything for you or your family please do not hesitate to call on me. My door and heart will forever be open to you and yours but I will not darken your door uninvited. I can't forget you as you have asked but I can act as though you were never mine. I am forever sorry and forever grateful for the time you spent with me. It was my honor one that I was not worthy of. I will post my apology as many places as you like. I will wear it around my neck on a placard should you choose. My behavior was that bad and you handled it with nothing but grace. I do love you with every bit of my being but I will now keep that to myself. And you were right if anyone spoke to my daughter like that I would pound him to dust. I also wanted to add something about your family who welcomed me with open arms. My father used to joke that he wanted to be treated like a friend not like family but with yours those distinctions were so blurred as to be non-existent and I will be thinking of you all during the upcoming holidays and wishing you all the best.Forever yoursPFTNot to throw a pall over my apology but there is this nagging issue of a child. If there was one and it is of my blood I will be a part of his/her life. My parents abandoned me to the world at 12 and I will never be accused of anything even resembling that. It is probably just trolls messing with my head but if you saw the pictures I sent maybe you see why it still comes up for me. I would appreciate someone telling me the truth about the situation if they're even is one.\n",
      ".....knowledge.Seeking anyone who has/had a sociopathic friend/lover/parent/sibling/aunt/coworker/boss (you get the picture) in their lives.Id be interested in hearing some of your experiences with this person if youd be so kind as to share with me....how did it work out? where you are now with this relationship?  And where is the sociopath?  Trying to gain as much insight as i can...anything helps. Thank you.\n"
     ]
    }
   ],
   "source": [
    "# Cleaning the body of my data\n",
    "# removing the unnessary gaps and fillers in the body section\n",
    "\n",
    "cleaned_body = []\n",
    "for bod in cleaning:\n",
    "    for bo in bod:\n",
    "        bo = bo.replace('\\n','')\n",
    "        bo = bo.replace('    ','')\n",
    "        bo = bo.replace(',', '')\n",
    "        z = bo\n",
    "        print z\n",
    "        cleaned_body.append(z)\n",
    "        \n"
   ]
  },
  {
   "cell_type": "code",
   "execution_count": 517,
   "metadata": {
    "collapsed": false,
    "scrolled": true
   },
   "outputs": [],
   "source": [
    "# df = pd.DataFrame(cleaned_body, columns=[\"Body\"])\n"
   ]
  },
  {
   "cell_type": "markdown",
   "metadata": {},
   "source": [
    "### Cleaning the whotowho"
   ]
  },
  {
   "cell_type": "code",
   "execution_count": 518,
   "metadata": {
    "collapsed": false
   },
   "outputs": [],
   "source": [
    "clean = m4m"
   ]
  },
  {
   "cell_type": "code",
   "execution_count": 519,
   "metadata": {
    "collapsed": false
   },
   "outputs": [],
   "source": [
    "# Cleaning the m4m:\n",
    "\n",
    "cleaning_m4m = []\n",
    "for i in clean:\n",
    "    i = ','.join(i)\n",
    "    i = [i]\n",
    "    cleaning_m4m.append(i) "
   ]
  },
  {
   "cell_type": "code",
   "execution_count": 520,
   "metadata": {
    "collapsed": false
   },
   "outputs": [],
   "source": [
    "cleaned_m4m = []\n",
    "for bod in cleaning_m4m:\n",
    "    for bo in bod:\n",
    "        if bo == '':\n",
    "            cleaned_body.append(np.nan)\n",
    "        else:\n",
    "            bo = bo.replace(' - ', '')\n",
    "            bo = bo.replace('\\n','')\n",
    "            bo = bo.replace('    ','')\n",
    "            bo = bo.replace(',', '')\n",
    "        z = bo\n",
    "        cleaned_m4m.append(z)"
   ]
  },
  {
   "cell_type": "code",
   "execution_count": 521,
   "metadata": {
    "collapsed": false
   },
   "outputs": [],
   "source": [
    "#  Creating a dataframe for finding who the connection is meant for\n",
    "df_m4m = pd.DataFrame(cleaned_m4m, columns=[\"Who_to\"])"
   ]
  },
  {
   "cell_type": "markdown",
   "metadata": {},
   "source": [
    "### Cleaning the title and the id "
   ]
  },
  {
   "cell_type": "code",
   "execution_count": 522,
   "metadata": {
    "collapsed": false
   },
   "outputs": [],
   "source": [
    "# title looks like it doesn't need much cleaning"
   ]
  },
  {
   "cell_type": "code",
   "execution_count": 523,
   "metadata": {
    "collapsed": false
   },
   "outputs": [],
   "source": [
    "# cleaning the ids extracted from the scrapping:\n",
    "ids_scrapy = []\n",
    "for i in ids:\n",
    "    for g in i:\n",
    "        idd = [int(s) for s in g.split() if s.isdigit()]\n",
    "        ids_scrapy.append(idd)"
   ]
  },
  {
   "cell_type": "code",
   "execution_count": 524,
   "metadata": {
    "collapsed": false
   },
   "outputs": [],
   "source": [
    "df_ids = pd.DataFrame(ids_scrapy, columns= [\"IDs\"])"
   ]
  },
  {
   "cell_type": "markdown",
   "metadata": {},
   "source": [
    "# Combining the individual lists into a DataFrame"
   ]
  },
  {
   "cell_type": "code",
   "execution_count": 550,
   "metadata": {
    "collapsed": false
   },
   "outputs": [
    {
     "ename": "NameError",
     "evalue": "name 'datetimes' is not defined",
     "output_type": "error",
     "traceback": [
      "\u001b[0;31m---------------------------------------------------------------------------\u001b[0m",
      "\u001b[0;31mNameError\u001b[0m                                 Traceback (most recent call last)",
      "\u001b[0;32m<ipython-input-550-d8f720685bd9>\u001b[0m in \u001b[0;36m<module>\u001b[0;34m()\u001b[0m\n\u001b[0;32m----> 1\u001b[0;31m \u001b[0mdf_final\u001b[0m \u001b[0;34m=\u001b[0m \u001b[0mpd\u001b[0m\u001b[0;34m.\u001b[0m\u001b[0mDataFrame\u001b[0m\u001b[0;34m(\u001b[0m\u001b[0;34m[\u001b[0m\u001b[0mids_scrapy\u001b[0m\u001b[0;34m,\u001b[0m \u001b[0murls\u001b[0m\u001b[0;34m,\u001b[0m \u001b[0mgeo_tags\u001b[0m\u001b[0;34m,\u001b[0m \u001b[0mcleaned_m4m\u001b[0m\u001b[0;34m,\u001b[0m \u001b[0mcleaned_body\u001b[0m\u001b[0;34m,\u001b[0m \u001b[0mdatetimes\u001b[0m\u001b[0;34m,\u001b[0m \u001b[0mhas_image\u001b[0m\u001b[0;34m,\u001b[0m \u001b[0mhas_maps\u001b[0m\u001b[0;34m]\u001b[0m\u001b[0;34m)\u001b[0m\u001b[0;34m.\u001b[0m\u001b[0mT\u001b[0m\u001b[0;34m\u001b[0m\u001b[0m\n\u001b[0m",
      "\u001b[0;31mNameError\u001b[0m: name 'datetimes' is not defined"
     ]
    }
   ],
   "source": [
    "df_final = pd.DataFrame([ids_scrapy, urls, geo_tags, cleaned_m4m, cleaned_body, datetimes, has_image, has_maps]).T"
   ]
  },
  {
   "cell_type": "code",
   "execution_count": 549,
   "metadata": {
    "collapsed": false
   },
   "outputs": [
    {
     "ename": "ValueError",
     "evalue": "Length mismatch: Expected axis has 5 elements, new values have 7 elements",
     "output_type": "error",
     "traceback": [
      "\u001b[0;31m---------------------------------------------------------------------------\u001b[0m",
      "\u001b[0;31mValueError\u001b[0m                                Traceback (most recent call last)",
      "\u001b[0;32m<ipython-input-549-6efb02f59596>\u001b[0m in \u001b[0;36m<module>\u001b[0;34m()\u001b[0m\n\u001b[0;32m----> 1\u001b[0;31m \u001b[0mdf_final\u001b[0m\u001b[0;34m.\u001b[0m\u001b[0mcolumns\u001b[0m \u001b[0;34m=\u001b[0m \u001b[0;34m[\u001b[0m\u001b[0;34m\"Ids\"\u001b[0m\u001b[0;34m,\u001b[0m\u001b[0;34m\"URLS\"\u001b[0m\u001b[0;34m,\u001b[0m\u001b[0;34m\"Geo_Tag\"\u001b[0m\u001b[0;34m,\u001b[0m\u001b[0;34m\"Who_to\"\u001b[0m\u001b[0;34m,\u001b[0m\u001b[0;34m\"Body\"\u001b[0m\u001b[0;34m,\u001b[0m \u001b[0;34m\"Datetime\"\u001b[0m\u001b[0;34m,\u001b[0m \u001b[0;34m\"Has_Image\"\u001b[0m \u001b[0;34m\"Has_Maps\"\u001b[0m\u001b[0;34m]\u001b[0m\u001b[0;34m\u001b[0m\u001b[0m\n\u001b[0m",
      "\u001b[0;32m/Users/roshkhadka/anaconda/envs/dsi/lib/python2.7/site-packages/pandas/core/generic.pyc\u001b[0m in \u001b[0;36m__setattr__\u001b[0;34m(self, name, value)\u001b[0m\n\u001b[1;32m   2683\u001b[0m         \u001b[0;32mtry\u001b[0m\u001b[0;34m:\u001b[0m\u001b[0;34m\u001b[0m\u001b[0m\n\u001b[1;32m   2684\u001b[0m             \u001b[0mobject\u001b[0m\u001b[0;34m.\u001b[0m\u001b[0m__getattribute__\u001b[0m\u001b[0;34m(\u001b[0m\u001b[0mself\u001b[0m\u001b[0;34m,\u001b[0m \u001b[0mname\u001b[0m\u001b[0;34m)\u001b[0m\u001b[0;34m\u001b[0m\u001b[0m\n\u001b[0;32m-> 2685\u001b[0;31m             \u001b[0;32mreturn\u001b[0m \u001b[0mobject\u001b[0m\u001b[0;34m.\u001b[0m\u001b[0m__setattr__\u001b[0m\u001b[0;34m(\u001b[0m\u001b[0mself\u001b[0m\u001b[0;34m,\u001b[0m \u001b[0mname\u001b[0m\u001b[0;34m,\u001b[0m \u001b[0mvalue\u001b[0m\u001b[0;34m)\u001b[0m\u001b[0;34m\u001b[0m\u001b[0m\n\u001b[0m\u001b[1;32m   2686\u001b[0m         \u001b[0;32mexcept\u001b[0m \u001b[0mAttributeError\u001b[0m\u001b[0;34m:\u001b[0m\u001b[0;34m\u001b[0m\u001b[0m\n\u001b[1;32m   2687\u001b[0m             \u001b[0;32mpass\u001b[0m\u001b[0;34m\u001b[0m\u001b[0m\n",
      "\u001b[0;32mpandas/src/properties.pyx\u001b[0m in \u001b[0;36mpandas.lib.AxisProperty.__set__ (pandas/lib.c:44748)\u001b[0;34m()\u001b[0m\n",
      "\u001b[0;32m/Users/roshkhadka/anaconda/envs/dsi/lib/python2.7/site-packages/pandas/core/generic.pyc\u001b[0m in \u001b[0;36m_set_axis\u001b[0;34m(self, axis, labels)\u001b[0m\n\u001b[1;32m    426\u001b[0m \u001b[0;34m\u001b[0m\u001b[0m\n\u001b[1;32m    427\u001b[0m     \u001b[0;32mdef\u001b[0m \u001b[0m_set_axis\u001b[0m\u001b[0;34m(\u001b[0m\u001b[0mself\u001b[0m\u001b[0;34m,\u001b[0m \u001b[0maxis\u001b[0m\u001b[0;34m,\u001b[0m \u001b[0mlabels\u001b[0m\u001b[0;34m)\u001b[0m\u001b[0;34m:\u001b[0m\u001b[0;34m\u001b[0m\u001b[0m\n\u001b[0;32m--> 428\u001b[0;31m         \u001b[0mself\u001b[0m\u001b[0;34m.\u001b[0m\u001b[0m_data\u001b[0m\u001b[0;34m.\u001b[0m\u001b[0mset_axis\u001b[0m\u001b[0;34m(\u001b[0m\u001b[0maxis\u001b[0m\u001b[0;34m,\u001b[0m \u001b[0mlabels\u001b[0m\u001b[0;34m)\u001b[0m\u001b[0;34m\u001b[0m\u001b[0m\n\u001b[0m\u001b[1;32m    429\u001b[0m         \u001b[0mself\u001b[0m\u001b[0;34m.\u001b[0m\u001b[0m_clear_item_cache\u001b[0m\u001b[0;34m(\u001b[0m\u001b[0;34m)\u001b[0m\u001b[0;34m\u001b[0m\u001b[0m\n\u001b[1;32m    430\u001b[0m \u001b[0;34m\u001b[0m\u001b[0m\n",
      "\u001b[0;32m/Users/roshkhadka/anaconda/envs/dsi/lib/python2.7/site-packages/pandas/core/internals.pyc\u001b[0m in \u001b[0;36mset_axis\u001b[0;34m(self, axis, new_labels)\u001b[0m\n\u001b[1;32m   2633\u001b[0m             raise ValueError('Length mismatch: Expected axis has %d elements, '\n\u001b[1;32m   2634\u001b[0m                              \u001b[0;34m'new values have %d elements'\u001b[0m \u001b[0;34m%\u001b[0m\u001b[0;34m\u001b[0m\u001b[0m\n\u001b[0;32m-> 2635\u001b[0;31m                              (old_len, new_len))\n\u001b[0m\u001b[1;32m   2636\u001b[0m \u001b[0;34m\u001b[0m\u001b[0m\n\u001b[1;32m   2637\u001b[0m         \u001b[0mself\u001b[0m\u001b[0;34m.\u001b[0m\u001b[0maxes\u001b[0m\u001b[0;34m[\u001b[0m\u001b[0maxis\u001b[0m\u001b[0;34m]\u001b[0m \u001b[0;34m=\u001b[0m \u001b[0mnew_labels\u001b[0m\u001b[0;34m\u001b[0m\u001b[0m\n",
      "\u001b[0;31mValueError\u001b[0m: Length mismatch: Expected axis has 5 elements, new values have 7 elements"
     ]
    }
   ],
   "source": [
    "df_final.columns = [\"Ids\",\"URLS\",\"Geo_Tag\",\"Who_to\",\"Body\", \"Datetime\", \"Has_Image\" \"Has_Maps\"]"
   ]
  },
  {
   "cell_type": "code",
   "execution_count": 567,
   "metadata": {
    "collapsed": false
   },
   "outputs": [
    {
     "data": {
      "text/plain": [
       "[[u'post id: 5973972370'],\n",
       " [u'post id: 5974000729'],\n",
       " [u'post id: 5973998318'],\n",
       " [u'post id: 5973947709'],\n",
       " [u'post id: 5973881271'],\n",
       " [u'post id: 5973886226'],\n",
       " [u'post id: 5956833571'],\n",
       " [u'post id: 5973841291'],\n",
       " [u'post id: 5973844091'],\n",
       " [],\n",
       " [u'post id: 5973736339'],\n",
       " [u'post id: 5973715409'],\n",
       " [u'post id: 5973626840'],\n",
       " [u'post id: 5969310830'],\n",
       " [u'post id: 5973637034'],\n",
       " [u'post id: 5973619751'],\n",
       " [u'post id: 5973224906'],\n",
       " [u'post id: 5967145040'],\n",
       " [u'post id: 5972985866'],\n",
       " [u'post id: 5972971905']]"
      ]
     },
     "execution_count": 567,
     "metadata": {},
     "output_type": "execute_result"
    }
   ],
   "source": [
    "ids"
   ]
  },
  {
   "cell_type": "code",
   "execution_count": 527,
   "metadata": {
    "collapsed": false
   },
   "outputs": [
    {
     "data": {
      "text/html": [
       "<div>\n",
       "<table border=\"1\" class=\"dataframe\">\n",
       "  <thead>\n",
       "    <tr style=\"text-align: right;\">\n",
       "      <th></th>\n",
       "      <th>Ids</th>\n",
       "      <th>URLS</th>\n",
       "      <th>Geo_Tag</th>\n",
       "      <th>Who_to</th>\n",
       "      <th>Body</th>\n",
       "    </tr>\n",
       "  </thead>\n",
       "  <tbody>\n",
       "    <tr>\n",
       "      <th>0</th>\n",
       "      <td>[5973972370]</td>\n",
       "      <td>http://sfbay.craigslist.org/eby/mis/5973972370...</td>\n",
       "      <td>(37.8005, -122.465)</td>\n",
       "      <td></td>\n",
       "      <td>You are so sweet and I just want you to know I...</td>\n",
       "    </tr>\n",
       "    <tr>\n",
       "      <th>1</th>\n",
       "      <td>[5974000729]</td>\n",
       "      <td>http://sfbay.craigslist.org/scz/mis/5974000729...</td>\n",
       "      <td>(37.0423, -122.2137)</td>\n",
       "      <td>m4m</td>\n",
       "      <td>Hey guys I want to have some fun today but you...</td>\n",
       "    </tr>\n",
       "    <tr>\n",
       "      <th>2</th>\n",
       "      <td>[5973998318]</td>\n",
       "      <td>http://sfbay.craigslist.org/scz/mis/5973998318...</td>\n",
       "      <td>(36.97505, -122.026373)</td>\n",
       "      <td>w4m</td>\n",
       "      <td>You're the handsome photographer who took my p...</td>\n",
       "    </tr>\n",
       "    <tr>\n",
       "      <th>3</th>\n",
       "      <td>[5973947709]</td>\n",
       "      <td>http://sfbay.craigslist.org/sfc/mis/5973947709...</td>\n",
       "      <td>None</td>\n",
       "      <td>m4w</td>\n",
       "      <td>Your firm shares the same building as mine.  A...</td>\n",
       "    </tr>\n",
       "    <tr>\n",
       "      <th>4</th>\n",
       "      <td>[5973881271]</td>\n",
       "      <td>http://sfbay.craigslist.org/sfc/mis/5973881271...</td>\n",
       "      <td>None</td>\n",
       "      <td>w4m</td>\n",
       "      <td>Hello. Will be in town next weekend Friday thr...</td>\n",
       "    </tr>\n",
       "    <tr>\n",
       "      <th>5</th>\n",
       "      <td>[5973886226]</td>\n",
       "      <td>http://sfbay.craigslist.org/sby/mis/5973886226...</td>\n",
       "      <td>(37.2803, -121.9539)</td>\n",
       "      <td>m4w</td>\n",
       "      <td>SK I have NOT posted for you in a long long ti...</td>\n",
       "    </tr>\n",
       "    <tr>\n",
       "      <th>6</th>\n",
       "      <td>[5956833571]</td>\n",
       "      <td>http://sfbay.craigslist.org/eby/mis/5956833571...</td>\n",
       "      <td>(37.954, -122.0737)</td>\n",
       "      <td>m4w</td>\n",
       "      <td>Hey Sara you work at \"the walking company\" at ...</td>\n",
       "    </tr>\n",
       "    <tr>\n",
       "      <th>7</th>\n",
       "      <td>[5973841291]</td>\n",
       "      <td>http://sfbay.craigslist.org/sfc/mis/5973841291...</td>\n",
       "      <td>None</td>\n",
       "      <td>mm4ww</td>\n",
       "      <td>just wanted to clarify my posting a bit.I dont...</td>\n",
       "    </tr>\n",
       "    <tr>\n",
       "      <th>8</th>\n",
       "      <td>[5973844091]</td>\n",
       "      <td>http://sfbay.craigslist.org/sfc/mis/5973844091...</td>\n",
       "      <td>(37.7806, -122.2166)</td>\n",
       "      <td>m4m</td>\n",
       "      <td>To tell you I care is only a part of what I fe...</td>\n",
       "    </tr>\n",
       "    <tr>\n",
       "      <th>9</th>\n",
       "      <td>[5973736339]</td>\n",
       "      <td>http://sfbay.craigslist.org/nby/mis/5973833094...</td>\n",
       "      <td>None</td>\n",
       "      <td></td>\n",
       "      <td></td>\n",
       "    </tr>\n",
       "    <tr>\n",
       "      <th>10</th>\n",
       "      <td>[5973715409]</td>\n",
       "      <td>http://sfbay.craigslist.org/sfc/mis/5973736339...</td>\n",
       "      <td>(37.773123, -122.412329)</td>\n",
       "      <td>m4m</td>\n",
       "      <td>Hey John   ---   Hope you see this. - If you d...</td>\n",
       "    </tr>\n",
       "    <tr>\n",
       "      <th>11</th>\n",
       "      <td>[5973626840]</td>\n",
       "      <td>http://sfbay.craigslist.org/sfc/mis/5973715409...</td>\n",
       "      <td>(37.7749, -122.4194)</td>\n",
       "      <td></td>\n",
       "      <td>A cellular collective electromagnetic biologic...</td>\n",
       "    </tr>\n",
       "    <tr>\n",
       "      <th>12</th>\n",
       "      <td>[5969310830]</td>\n",
       "      <td>http://sfbay.craigslist.org/scz/mis/5973626840...</td>\n",
       "      <td>None</td>\n",
       "      <td>w4m</td>\n",
       "      <td>sMiles R. I miss your friendship. Please conta...</td>\n",
       "    </tr>\n",
       "    <tr>\n",
       "      <th>13</th>\n",
       "      <td>[5973637034]</td>\n",
       "      <td>http://sfbay.craigslist.org/sby/mis/5969310830...</td>\n",
       "      <td>(37.0139, -121.5773)</td>\n",
       "      <td>m4w</td>\n",
       "      <td>You work at the Nike outlet i was there a few ...</td>\n",
       "    </tr>\n",
       "    <tr>\n",
       "      <th>14</th>\n",
       "      <td>[5973619751]</td>\n",
       "      <td>http://sfbay.craigslist.org/scz/mis/5973637034...</td>\n",
       "      <td>None</td>\n",
       "      <td>m4w</td>\n",
       "      <td>You had an epically long check out for what lo...</td>\n",
       "    </tr>\n",
       "    <tr>\n",
       "      <th>15</th>\n",
       "      <td>[5973224906]</td>\n",
       "      <td>http://sfbay.craigslist.org/eby/mis/5973619751...</td>\n",
       "      <td>None</td>\n",
       "      <td>m4w</td>\n",
       "      <td>Hey thereHi looking to make a new friend! Thin...</td>\n",
       "    </tr>\n",
       "    <tr>\n",
       "      <th>16</th>\n",
       "      <td>[5967145040]</td>\n",
       "      <td>http://sfbay.craigslist.org/sfc/mis/5973224906...</td>\n",
       "      <td>(37.7812, -122.4614)</td>\n",
       "      <td>m4w</td>\n",
       "      <td>I got in the Uber at Clement St big bearded gu...</td>\n",
       "    </tr>\n",
       "    <tr>\n",
       "      <th>17</th>\n",
       "      <td>[5972985866]</td>\n",
       "      <td>http://sfbay.craigslist.org/eby/mis/5967145040...</td>\n",
       "      <td>(38.2044, -120.3688)</td>\n",
       "      <td>m4w</td>\n",
       "      <td>Hello DIY I thought we were starting a good co...</td>\n",
       "    </tr>\n",
       "    <tr>\n",
       "      <th>18</th>\n",
       "      <td>[5972971905]</td>\n",
       "      <td>http://sfbay.craigslist.org/scz/mis/5972985866...</td>\n",
       "      <td>(37.3249, -121.9153)</td>\n",
       "      <td>m4w</td>\n",
       "      <td>you flagged this? Looking at posts made and ti...</td>\n",
       "    </tr>\n",
       "    <tr>\n",
       "      <th>19</th>\n",
       "      <td>None</td>\n",
       "      <td>http://sfbay.craigslist.org/sfc/mis/5972971905...</td>\n",
       "      <td>None</td>\n",
       "      <td>ww4mm</td>\n",
       "      <td>.....knowledge.Seeking anyone who has/had a so...</td>\n",
       "    </tr>\n",
       "    <tr>\n",
       "      <th>20</th>\n",
       "      <td>NaN</td>\n",
       "      <td>NaN</td>\n",
       "      <td>NaN</td>\n",
       "      <td>NaN</td>\n",
       "      <td>NaN</td>\n",
       "    </tr>\n",
       "  </tbody>\n",
       "</table>\n",
       "</div>"
      ],
      "text/plain": [
       "             Ids                                               URLS  \\\n",
       "0   [5973972370]  http://sfbay.craigslist.org/eby/mis/5973972370...   \n",
       "1   [5974000729]  http://sfbay.craigslist.org/scz/mis/5974000729...   \n",
       "2   [5973998318]  http://sfbay.craigslist.org/scz/mis/5973998318...   \n",
       "3   [5973947709]  http://sfbay.craigslist.org/sfc/mis/5973947709...   \n",
       "4   [5973881271]  http://sfbay.craigslist.org/sfc/mis/5973881271...   \n",
       "5   [5973886226]  http://sfbay.craigslist.org/sby/mis/5973886226...   \n",
       "6   [5956833571]  http://sfbay.craigslist.org/eby/mis/5956833571...   \n",
       "7   [5973841291]  http://sfbay.craigslist.org/sfc/mis/5973841291...   \n",
       "8   [5973844091]  http://sfbay.craigslist.org/sfc/mis/5973844091...   \n",
       "9   [5973736339]  http://sfbay.craigslist.org/nby/mis/5973833094...   \n",
       "10  [5973715409]  http://sfbay.craigslist.org/sfc/mis/5973736339...   \n",
       "11  [5973626840]  http://sfbay.craigslist.org/sfc/mis/5973715409...   \n",
       "12  [5969310830]  http://sfbay.craigslist.org/scz/mis/5973626840...   \n",
       "13  [5973637034]  http://sfbay.craigslist.org/sby/mis/5969310830...   \n",
       "14  [5973619751]  http://sfbay.craigslist.org/scz/mis/5973637034...   \n",
       "15  [5973224906]  http://sfbay.craigslist.org/eby/mis/5973619751...   \n",
       "16  [5967145040]  http://sfbay.craigslist.org/sfc/mis/5973224906...   \n",
       "17  [5972985866]  http://sfbay.craigslist.org/eby/mis/5967145040...   \n",
       "18  [5972971905]  http://sfbay.craigslist.org/scz/mis/5972985866...   \n",
       "19          None  http://sfbay.craigslist.org/sfc/mis/5972971905...   \n",
       "20           NaN                                                NaN   \n",
       "\n",
       "                     Geo_Tag Who_to  \\\n",
       "0        (37.8005, -122.465)          \n",
       "1       (37.0423, -122.2137)    m4m   \n",
       "2    (36.97505, -122.026373)    w4m   \n",
       "3                       None    m4w   \n",
       "4                       None    w4m   \n",
       "5       (37.2803, -121.9539)    m4w   \n",
       "6        (37.954, -122.0737)    m4w   \n",
       "7                       None  mm4ww   \n",
       "8       (37.7806, -122.2166)    m4m   \n",
       "9                       None          \n",
       "10  (37.773123, -122.412329)    m4m   \n",
       "11      (37.7749, -122.4194)          \n",
       "12                      None    w4m   \n",
       "13      (37.0139, -121.5773)    m4w   \n",
       "14                      None    m4w   \n",
       "15                      None    m4w   \n",
       "16      (37.7812, -122.4614)    m4w   \n",
       "17      (38.2044, -120.3688)    m4w   \n",
       "18      (37.3249, -121.9153)    m4w   \n",
       "19                      None  ww4mm   \n",
       "20                       NaN    NaN   \n",
       "\n",
       "                                                 Body  \n",
       "0   You are so sweet and I just want you to know I...  \n",
       "1   Hey guys I want to have some fun today but you...  \n",
       "2   You're the handsome photographer who took my p...  \n",
       "3   Your firm shares the same building as mine.  A...  \n",
       "4   Hello. Will be in town next weekend Friday thr...  \n",
       "5   SK I have NOT posted for you in a long long ti...  \n",
       "6   Hey Sara you work at \"the walking company\" at ...  \n",
       "7   just wanted to clarify my posting a bit.I dont...  \n",
       "8   To tell you I care is only a part of what I fe...  \n",
       "9                                                      \n",
       "10  Hey John   ---   Hope you see this. - If you d...  \n",
       "11  A cellular collective electromagnetic biologic...  \n",
       "12  sMiles R. I miss your friendship. Please conta...  \n",
       "13  You work at the Nike outlet i was there a few ...  \n",
       "14  You had an epically long check out for what lo...  \n",
       "15  Hey thereHi looking to make a new friend! Thin...  \n",
       "16  I got in the Uber at Clement St big bearded gu...  \n",
       "17  Hello DIY I thought we were starting a good co...  \n",
       "18  you flagged this? Looking at posts made and ti...  \n",
       "19  .....knowledge.Seeking anyone who has/had a so...  \n",
       "20                                                NaN  "
      ]
     },
     "execution_count": 527,
     "metadata": {},
     "output_type": "execute_result"
    }
   ],
   "source": [
    "df_final"
   ]
  },
  {
   "cell_type": "code",
   "execution_count": null,
   "metadata": {
    "collapsed": true
   },
   "outputs": [],
   "source": [
    "pd.df"
   ]
  }
 ],
 "metadata": {
  "anaconda-cloud": {},
  "kernelspec": {
   "display_name": "Python [conda env:dsi]",
   "language": "python",
   "name": "conda-env-dsi-py"
  },
  "language_info": {
   "codemirror_mode": {
    "name": "ipython",
    "version": 2
   },
   "file_extension": ".py",
   "mimetype": "text/x-python",
   "name": "python",
   "nbconvert_exporter": "python",
   "pygments_lexer": "ipython2",
   "version": "2.7.12"
  }
 },
 "nbformat": 4,
 "nbformat_minor": 1
}
