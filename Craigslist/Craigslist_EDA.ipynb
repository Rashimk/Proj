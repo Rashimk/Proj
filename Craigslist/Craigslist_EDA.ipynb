{
 "cells": [
  {
   "cell_type": "code",
   "execution_count": 2,
   "metadata": {
    "collapsed": true
   },
   "outputs": [],
   "source": [
    "import pandas as pd\n",
    "import numpy as np\n",
    "from scrapy.selector import Selector\n",
    "from scrapy.http import HtmlResponse\n",
    "import requests\n",
    "\n",
    "import craigslist\n",
    "from craigslist import CraigslistPersonals"
   ]
  },
  {
   "cell_type": "code",
   "execution_count": 3,
   "metadata": {
    "collapsed": false
   },
   "outputs": [],
   "source": [
    "df = pd.read_csv(\"../../Craigslist_Project/Data/Craigs_1_26\")\n"
   ]
  },
  {
   "cell_type": "code",
   "execution_count": 4,
   "metadata": {
    "collapsed": false
   },
   "outputs": [
    {
     "data": {
      "text/html": [
       "<div>\n",
       "<table border=\"1\" class=\"dataframe\">\n",
       "  <thead>\n",
       "    <tr style=\"text-align: right;\">\n",
       "      <th></th>\n",
       "      <th>Ids</th>\n",
       "      <th>Title</th>\n",
       "      <th>City</th>\n",
       "      <th>Geo_Tag</th>\n",
       "      <th>Where</th>\n",
       "      <th>Who_to</th>\n",
       "      <th>Age</th>\n",
       "      <th>Height</th>\n",
       "      <th>Body_type</th>\n",
       "      <th>Body</th>\n",
       "      <th>Datetime</th>\n",
       "      <th>Has_Image</th>\n",
       "      <th>Has_Maps</th>\n",
       "      <th>URL</th>\n",
       "    </tr>\n",
       "  </thead>\n",
       "  <tbody>\n",
       "    <tr>\n",
       "      <th>0</th>\n",
       "      <td>5.915963e+09</td>\n",
       "      <td>Turning love to hate</td>\n",
       "      <td>austin</td>\n",
       "      <td>(30.3423, -97.6673)</td>\n",
       "      <td>In the wind, along with my love</td>\n",
       "      <td>m4w</td>\n",
       "      <td>NaN</td>\n",
       "      <td>NaN</td>\n",
       "      <td>NaN</td>\n",
       "      <td>Imagine the effort it takes to cultivate love ...</td>\n",
       "      <td>2016-12-12 08:23</td>\n",
       "      <td>False</td>\n",
       "      <td>True</td>\n",
       "      <td>http://austin.craigslist.org/mis/5915962984.html</td>\n",
       "    </tr>\n",
       "    <tr>\n",
       "      <th>1</th>\n",
       "      <td>5.961141e+09</td>\n",
       "      <td>Pokémon Hunter in Van</td>\n",
       "      <td>austin</td>\n",
       "      <td>NaN</td>\n",
       "      <td>Downtown Round Rock</td>\n",
       "      <td>m4m</td>\n",
       "      <td>28.0</td>\n",
       "      <td>NaN</td>\n",
       "      <td>athletic</td>\n",
       "      <td>I was Pokémon Hunting downtown today it was ab...</td>\n",
       "      <td>2017-01-19 00:45</td>\n",
       "      <td>True</td>\n",
       "      <td>True</td>\n",
       "      <td>http://austin.craigslist.org/mis/5961140651.html</td>\n",
       "    </tr>\n",
       "  </tbody>\n",
       "</table>\n",
       "</div>"
      ],
      "text/plain": [
       "            Ids                  Title    City              Geo_Tag  \\\n",
       "0  5.915963e+09   Turning love to hate  austin  (30.3423, -97.6673)   \n",
       "1  5.961141e+09  Pokémon Hunter in Van  austin                  NaN   \n",
       "\n",
       "                             Where Who_to   Age Height Body_type  \\\n",
       "0  In the wind, along with my love    m4w   NaN    NaN       NaN   \n",
       "1              Downtown Round Rock    m4m  28.0    NaN  athletic   \n",
       "\n",
       "                                                Body          Datetime  \\\n",
       "0  Imagine the effort it takes to cultivate love ...  2016-12-12 08:23   \n",
       "1  I was Pokémon Hunting downtown today it was ab...  2017-01-19 00:45   \n",
       "\n",
       "  Has_Image Has_Maps                                               URL  \n",
       "0     False     True  http://austin.craigslist.org/mis/5915962984.html  \n",
       "1      True     True  http://austin.craigslist.org/mis/5961140651.html  "
      ]
     },
     "execution_count": 4,
     "metadata": {},
     "output_type": "execute_result"
    }
   ],
   "source": [
    "df.head(2)"
   ]
  },
  {
   "cell_type": "markdown",
   "metadata": {},
   "source": [
    "## Exploring Age"
   ]
  },
  {
   "cell_type": "code",
   "execution_count": 5,
   "metadata": {
    "collapsed": false
   },
   "outputs": [],
   "source": [
    "df_cleaning = df[df[\"Who_to\"].notnull() & df[\"Age\"].notnull()]"
   ]
  },
  {
   "cell_type": "code",
   "execution_count": 6,
   "metadata": {
    "collapsed": false
   },
   "outputs": [
    {
     "data": {
      "text/plain": [
       "array([  28.,   58.,   36.,   65.,   40.,   34.,   52.,   29.,   22.,\n",
       "         54.,   30.,   33.,  100.,   27.,   26.,   47.,   42.,   48.,\n",
       "         49.,   24.,   68.,   23.,   21.,   35.,   46.,   74.,   59.,\n",
       "         25.,   56.,   53.,   45.,   44.,   38.,   39.,   50.,   32.,\n",
       "        101.,   31.,   75.,   43.,  123.,   37.,   41.,   64.,   99.,\n",
       "         51.,   55.,   20.,   60.,   62.,   18.,   57.,   92.,   19.,\n",
       "         72.,   67.,   69.,   63.,   80.,   93.,   79.])"
      ]
     },
     "execution_count": 6,
     "metadata": {},
     "output_type": "execute_result"
    }
   ],
   "source": [
    "df_cleaning.Age.unique()"
   ]
  },
  {
   "cell_type": "code",
   "execution_count": 7,
   "metadata": {
    "collapsed": false
   },
   "outputs": [
    {
     "data": {
      "text/plain": [
       "(1917, 14)"
      ]
     },
     "execution_count": 7,
     "metadata": {},
     "output_type": "execute_result"
    }
   ],
   "source": [
    "df_cleaning.shape"
   ]
  },
  {
   "cell_type": "code",
   "execution_count": 8,
   "metadata": {
    "collapsed": false,
    "scrolled": true
   },
   "outputs": [
    {
     "data": {
      "text/plain": [
       "array(['m4m', 'm4w', 'w4m', 'w4w', 'mw4mw', 'ww4m', 't4m', 'm4t', 'm4ww',\n",
       "       'm4mw', 't4mm', 'm4mm', 'mw4m', 'w4mm', 'mw4w', 't4ww', 'ww4w',\n",
       "       'w4ww', 'w4mw', 't4w'], dtype=object)"
      ]
     },
     "execution_count": 8,
     "metadata": {},
     "output_type": "execute_result"
    }
   ],
   "source": [
    "df_cleaning.Who_to.unique()"
   ]
  },
  {
   "cell_type": "code",
   "execution_count": 9,
   "metadata": {
    "collapsed": false,
    "scrolled": true
   },
   "outputs": [
    {
     "data": {
      "text/plain": [
       "(1917, 14)"
      ]
     },
     "execution_count": 9,
     "metadata": {},
     "output_type": "execute_result"
    }
   ],
   "source": [
    "df_cleaning.shape"
   ]
  },
  {
   "cell_type": "code",
   "execution_count": 10,
   "metadata": {
    "collapsed": false
   },
   "outputs": [
    {
     "name": "stderr",
     "output_type": "stream",
     "text": [
      "/Users/roshkhadka/anaconda/envs/dsi/lib/python2.7/site-packages/pandas/core/generic.py:2701: SettingWithCopyWarning: \n",
      "A value is trying to be set on a copy of a slice from a DataFrame.\n",
      "Try using .loc[row_indexer,col_indexer] = value instead\n",
      "\n",
      "See the caveats in the documentation: http://pandas.pydata.org/pandas-docs/stable/indexing.html#indexing-view-versus-copy\n",
      "  self[name] = value\n"
     ]
    }
   ],
   "source": [
    "df_cleaning.Who_to = df_cleaning.Who_to.map(lambda x: x.split('4'))"
   ]
  },
  {
   "cell_type": "code",
   "execution_count": 11,
   "metadata": {
    "collapsed": false,
    "scrolled": false
   },
   "outputs": [
    {
     "name": "stderr",
     "output_type": "stream",
     "text": [
      "/Users/roshkhadka/anaconda/envs/dsi/lib/python2.7/site-packages/ipykernel/__main__.py:1: SettingWithCopyWarning: \n",
      "A value is trying to be set on a copy of a slice from a DataFrame.\n",
      "Try using .loc[row_indexer,col_indexer] = value instead\n",
      "\n",
      "See the caveats in the documentation: http://pandas.pydata.org/pandas-docs/stable/indexing.html#indexing-view-versus-copy\n",
      "  if __name__ == '__main__':\n",
      "/Users/roshkhadka/anaconda/envs/dsi/lib/python2.7/site-packages/ipykernel/__main__.py:2: SettingWithCopyWarning: \n",
      "A value is trying to be set on a copy of a slice from a DataFrame.\n",
      "Try using .loc[row_indexer,col_indexer] = value instead\n",
      "\n",
      "See the caveats in the documentation: http://pandas.pydata.org/pandas-docs/stable/indexing.html#indexing-view-versus-copy\n",
      "  from ipykernel import kernelapp as app\n"
     ]
    }
   ],
   "source": [
    "df_cleaning[\"From\"] = 1\n",
    "df_cleaning[\"To\"] = 1"
   ]
  },
  {
   "cell_type": "code",
   "execution_count": 12,
   "metadata": {
    "collapsed": false
   },
   "outputs": [
    {
     "data": {
      "text/html": [
       "<div>\n",
       "<table border=\"1\" class=\"dataframe\">\n",
       "  <thead>\n",
       "    <tr style=\"text-align: right;\">\n",
       "      <th></th>\n",
       "      <th>Ids</th>\n",
       "      <th>Title</th>\n",
       "      <th>City</th>\n",
       "      <th>Geo_Tag</th>\n",
       "      <th>Where</th>\n",
       "      <th>Who_to</th>\n",
       "      <th>Age</th>\n",
       "      <th>Height</th>\n",
       "      <th>Body_type</th>\n",
       "      <th>Body</th>\n",
       "      <th>Datetime</th>\n",
       "      <th>Has_Image</th>\n",
       "      <th>Has_Maps</th>\n",
       "      <th>URL</th>\n",
       "      <th>From</th>\n",
       "      <th>To</th>\n",
       "    </tr>\n",
       "  </thead>\n",
       "  <tbody>\n",
       "    <tr>\n",
       "      <th>1</th>\n",
       "      <td>5.961141e+09</td>\n",
       "      <td>Pokémon Hunter in Van</td>\n",
       "      <td>austin</td>\n",
       "      <td>NaN</td>\n",
       "      <td>Downtown Round Rock</td>\n",
       "      <td>[m, m]</td>\n",
       "      <td>28.0</td>\n",
       "      <td>NaN</td>\n",
       "      <td>athletic</td>\n",
       "      <td>I was Pokémon Hunting downtown today it was ab...</td>\n",
       "      <td>2017-01-19 00:45</td>\n",
       "      <td>True</td>\n",
       "      <td>True</td>\n",
       "      <td>http://austin.craigslist.org/mis/5961140651.html</td>\n",
       "      <td>1</td>\n",
       "      <td>1</td>\n",
       "    </tr>\n",
       "    <tr>\n",
       "      <th>2</th>\n",
       "      <td>5.965702e+09</td>\n",
       "      <td>Heb this evening</td>\n",
       "      <td>austin</td>\n",
       "      <td>(30.299463, -97.720041)</td>\n",
       "      <td>Hancock</td>\n",
       "      <td>[m, m]</td>\n",
       "      <td>58.0</td>\n",
       "      <td>NaN</td>\n",
       "      <td>fit</td>\n",
       "      <td>Long shot here but for some reason I can't let...</td>\n",
       "      <td>2017-01-19 00:21</td>\n",
       "      <td>False</td>\n",
       "      <td>True</td>\n",
       "      <td>http://austin.craigslist.org/mis/5965702493.html</td>\n",
       "      <td>1</td>\n",
       "      <td>1</td>\n",
       "    </tr>\n",
       "    <tr>\n",
       "      <th>3</th>\n",
       "      <td>5.965675e+09</td>\n",
       "      <td>Baby Mamas Beware!!!</td>\n",
       "      <td>austin</td>\n",
       "      <td>NaN</td>\n",
       "      <td>NaN</td>\n",
       "      <td>[m, w]</td>\n",
       "      <td>36.0</td>\n",
       "      <td>NaN</td>\n",
       "      <td>NaN</td>\n",
       "      <td>I am not a man seeking a woman I am a woman he...</td>\n",
       "      <td>2017-01-18 23:26</td>\n",
       "      <td>False</td>\n",
       "      <td>True</td>\n",
       "      <td>http://austin.craigslist.org/mis/5965674600.html</td>\n",
       "      <td>1</td>\n",
       "      <td>1</td>\n",
       "    </tr>\n",
       "    <tr>\n",
       "      <th>4</th>\n",
       "      <td>5.965667e+09</td>\n",
       "      <td>I'm free!</td>\n",
       "      <td>austin</td>\n",
       "      <td>NaN</td>\n",
       "      <td>NaN</td>\n",
       "      <td>[w, m]</td>\n",
       "      <td>65.0</td>\n",
       "      <td>NaN</td>\n",
       "      <td>NaN</td>\n",
       "      <td>I'm finally free!! I'm not scared of you anymo...</td>\n",
       "      <td>2017-01-18 23:14</td>\n",
       "      <td>False</td>\n",
       "      <td>True</td>\n",
       "      <td>http://austin.craigslist.org/mis/5965667199.html</td>\n",
       "      <td>1</td>\n",
       "      <td>1</td>\n",
       "    </tr>\n",
       "  </tbody>\n",
       "</table>\n",
       "</div>"
      ],
      "text/plain": [
       "            Ids                  Title    City                  Geo_Tag  \\\n",
       "1  5.961141e+09  Pokémon Hunter in Van  austin                      NaN   \n",
       "2  5.965702e+09       Heb this evening  austin  (30.299463, -97.720041)   \n",
       "3  5.965675e+09   Baby Mamas Beware!!!  austin                      NaN   \n",
       "4  5.965667e+09              I'm free!  austin                      NaN   \n",
       "\n",
       "                 Where  Who_to   Age Height Body_type  \\\n",
       "1  Downtown Round Rock  [m, m]  28.0    NaN  athletic   \n",
       "2              Hancock  [m, m]  58.0    NaN       fit   \n",
       "3                  NaN  [m, w]  36.0    NaN       NaN   \n",
       "4                  NaN  [w, m]  65.0    NaN       NaN   \n",
       "\n",
       "                                                Body          Datetime  \\\n",
       "1  I was Pokémon Hunting downtown today it was ab...  2017-01-19 00:45   \n",
       "2  Long shot here but for some reason I can't let...  2017-01-19 00:21   \n",
       "3  I am not a man seeking a woman I am a woman he...  2017-01-18 23:26   \n",
       "4  I'm finally free!! I'm not scared of you anymo...  2017-01-18 23:14   \n",
       "\n",
       "  Has_Image Has_Maps                                               URL  From  \\\n",
       "1      True     True  http://austin.craigslist.org/mis/5961140651.html     1   \n",
       "2     False     True  http://austin.craigslist.org/mis/5965702493.html     1   \n",
       "3     False     True  http://austin.craigslist.org/mis/5965674600.html     1   \n",
       "4     False     True  http://austin.craigslist.org/mis/5965667199.html     1   \n",
       "\n",
       "   To  \n",
       "1   1  \n",
       "2   1  \n",
       "3   1  \n",
       "4   1  "
      ]
     },
     "execution_count": 12,
     "metadata": {},
     "output_type": "execute_result"
    }
   ],
   "source": [
    "df_cleaning.head(4)"
   ]
  },
  {
   "cell_type": "code",
   "execution_count": 13,
   "metadata": {
    "collapsed": false
   },
   "outputs": [
    {
     "name": "stderr",
     "output_type": "stream",
     "text": [
      "/Users/roshkhadka/anaconda/envs/dsi/lib/python2.7/site-packages/ipykernel/__main__.py:1: SettingWithCopyWarning: \n",
      "A value is trying to be set on a copy of a slice from a DataFrame.\n",
      "Try using .loc[row_indexer,col_indexer] = value instead\n",
      "\n",
      "See the caveats in the documentation: http://pandas.pydata.org/pandas-docs/stable/indexing.html#indexing-view-versus-copy\n",
      "  if __name__ == '__main__':\n",
      "/Users/roshkhadka/anaconda/envs/dsi/lib/python2.7/site-packages/ipykernel/__main__.py:2: SettingWithCopyWarning: \n",
      "A value is trying to be set on a copy of a slice from a DataFrame.\n",
      "Try using .loc[row_indexer,col_indexer] = value instead\n",
      "\n",
      "See the caveats in the documentation: http://pandas.pydata.org/pandas-docs/stable/indexing.html#indexing-view-versus-copy\n",
      "  from ipykernel import kernelapp as app\n"
     ]
    }
   ],
   "source": [
    "df_cleaning[\"From\"] = df_cleaning.Who_to.map(lambda x: x[0])\n",
    "df_cleaning[\"To\"] = df_cleaning.Who_to.map(lambda x: x[1])"
   ]
  },
  {
   "cell_type": "code",
   "execution_count": 14,
   "metadata": {
    "collapsed": false
   },
   "outputs": [
    {
     "name": "stderr",
     "output_type": "stream",
     "text": [
      "/Users/roshkhadka/anaconda/envs/dsi/lib/python2.7/site-packages/ipykernel/__main__.py:13: SettingWithCopyWarning: \n",
      "A value is trying to be set on a copy of a slice from a DataFrame.\n",
      "Try using .loc[row_indexer,col_indexer] = value instead\n",
      "\n",
      "See the caveats in the documentation: http://pandas.pydata.org/pandas-docs/stable/indexing.html#indexing-view-versus-copy\n",
      "/Users/roshkhadka/anaconda/envs/dsi/lib/python2.7/site-packages/ipykernel/__main__.py:14: SettingWithCopyWarning: \n",
      "A value is trying to be set on a copy of a slice from a DataFrame.\n",
      "Try using .loc[row_indexer,col_indexer] = value instead\n",
      "\n",
      "See the caveats in the documentation: http://pandas.pydata.org/pandas-docs/stable/indexing.html#indexing-view-versus-copy\n"
     ]
    }
   ],
   "source": [
    "def checking_category(inp):\n",
    "    if inp == \"mm\":\n",
    "        return 'couple'\n",
    "    elif inp == \"ww\":\n",
    "        return 'couple'\n",
    "    elif inp == \"mw\": \n",
    "        return 'couple'\n",
    "    elif inp == \"wm\":\n",
    "        return 'couple'\n",
    "    else:\n",
    "        return inp\n",
    "\n",
    "df_cleaning[\"From\"] = df_cleaning.From.map(checking_category)\n",
    "df_cleaning[\"To\"] = df_cleaning.To.map(checking_category)"
   ]
  },
  {
   "cell_type": "code",
   "execution_count": 15,
   "metadata": {
    "collapsed": false
   },
   "outputs": [
    {
     "data": {
      "text/plain": [
       "array(['m', 'w', 'couple', 't'], dtype=object)"
      ]
     },
     "execution_count": 15,
     "metadata": {},
     "output_type": "execute_result"
    }
   ],
   "source": [
    "df_cleaning.From.unique()\n",
    "df_cleaning.To.unique()"
   ]
  },
  {
   "cell_type": "code",
   "execution_count": 16,
   "metadata": {
    "collapsed": false
   },
   "outputs": [
    {
     "data": {
      "text/html": [
       "<div>\n",
       "<table border=\"1\" class=\"dataframe\">\n",
       "  <thead>\n",
       "    <tr style=\"text-align: right;\">\n",
       "      <th></th>\n",
       "      <th>Ids</th>\n",
       "      <th>Title</th>\n",
       "      <th>City</th>\n",
       "      <th>Geo_Tag</th>\n",
       "      <th>Where</th>\n",
       "      <th>Who_to</th>\n",
       "      <th>Age</th>\n",
       "      <th>Height</th>\n",
       "      <th>Body_type</th>\n",
       "      <th>Body</th>\n",
       "      <th>Datetime</th>\n",
       "      <th>Has_Image</th>\n",
       "      <th>Has_Maps</th>\n",
       "      <th>URL</th>\n",
       "      <th>From</th>\n",
       "      <th>To</th>\n",
       "    </tr>\n",
       "  </thead>\n",
       "  <tbody>\n",
       "    <tr>\n",
       "      <th>1</th>\n",
       "      <td>5.961141e+09</td>\n",
       "      <td>Pokémon Hunter in Van</td>\n",
       "      <td>austin</td>\n",
       "      <td>NaN</td>\n",
       "      <td>Downtown Round Rock</td>\n",
       "      <td>[m, m]</td>\n",
       "      <td>28.0</td>\n",
       "      <td>NaN</td>\n",
       "      <td>athletic</td>\n",
       "      <td>I was Pokémon Hunting downtown today it was ab...</td>\n",
       "      <td>2017-01-19 00:45</td>\n",
       "      <td>True</td>\n",
       "      <td>True</td>\n",
       "      <td>http://austin.craigslist.org/mis/5961140651.html</td>\n",
       "      <td>m</td>\n",
       "      <td>m</td>\n",
       "    </tr>\n",
       "    <tr>\n",
       "      <th>2</th>\n",
       "      <td>5.965702e+09</td>\n",
       "      <td>Heb this evening</td>\n",
       "      <td>austin</td>\n",
       "      <td>(30.299463, -97.720041)</td>\n",
       "      <td>Hancock</td>\n",
       "      <td>[m, m]</td>\n",
       "      <td>58.0</td>\n",
       "      <td>NaN</td>\n",
       "      <td>fit</td>\n",
       "      <td>Long shot here but for some reason I can't let...</td>\n",
       "      <td>2017-01-19 00:21</td>\n",
       "      <td>False</td>\n",
       "      <td>True</td>\n",
       "      <td>http://austin.craigslist.org/mis/5965702493.html</td>\n",
       "      <td>m</td>\n",
       "      <td>m</td>\n",
       "    </tr>\n",
       "    <tr>\n",
       "      <th>3</th>\n",
       "      <td>5.965675e+09</td>\n",
       "      <td>Baby Mamas Beware!!!</td>\n",
       "      <td>austin</td>\n",
       "      <td>NaN</td>\n",
       "      <td>NaN</td>\n",
       "      <td>[m, w]</td>\n",
       "      <td>36.0</td>\n",
       "      <td>NaN</td>\n",
       "      <td>NaN</td>\n",
       "      <td>I am not a man seeking a woman I am a woman he...</td>\n",
       "      <td>2017-01-18 23:26</td>\n",
       "      <td>False</td>\n",
       "      <td>True</td>\n",
       "      <td>http://austin.craigslist.org/mis/5965674600.html</td>\n",
       "      <td>m</td>\n",
       "      <td>w</td>\n",
       "    </tr>\n",
       "  </tbody>\n",
       "</table>\n",
       "</div>"
      ],
      "text/plain": [
       "            Ids                  Title    City                  Geo_Tag  \\\n",
       "1  5.961141e+09  Pokémon Hunter in Van  austin                      NaN   \n",
       "2  5.965702e+09       Heb this evening  austin  (30.299463, -97.720041)   \n",
       "3  5.965675e+09   Baby Mamas Beware!!!  austin                      NaN   \n",
       "\n",
       "                 Where  Who_to   Age Height Body_type  \\\n",
       "1  Downtown Round Rock  [m, m]  28.0    NaN  athletic   \n",
       "2              Hancock  [m, m]  58.0    NaN       fit   \n",
       "3                  NaN  [m, w]  36.0    NaN       NaN   \n",
       "\n",
       "                                                Body          Datetime  \\\n",
       "1  I was Pokémon Hunting downtown today it was ab...  2017-01-19 00:45   \n",
       "2  Long shot here but for some reason I can't let...  2017-01-19 00:21   \n",
       "3  I am not a man seeking a woman I am a woman he...  2017-01-18 23:26   \n",
       "\n",
       "  Has_Image Has_Maps                                               URL From To  \n",
       "1      True     True  http://austin.craigslist.org/mis/5961140651.html    m  m  \n",
       "2     False     True  http://austin.craigslist.org/mis/5965702493.html    m  m  \n",
       "3     False     True  http://austin.craigslist.org/mis/5965674600.html    m  w  "
      ]
     },
     "execution_count": 16,
     "metadata": {},
     "output_type": "execute_result"
    }
   ],
   "source": [
    "df_cleaning.head(3)"
   ]
  },
  {
   "cell_type": "code",
   "execution_count": 17,
   "metadata": {
    "collapsed": false
   },
   "outputs": [],
   "source": [
    "df_graph = df_cleaning.groupby([\"Age\"])['From'].count()"
   ]
  },
  {
   "cell_type": "code",
   "execution_count": 18,
   "metadata": {
    "collapsed": false,
    "scrolled": true
   },
   "outputs": [
    {
     "data": {
      "text/plain": [
       "array([ 13,   7,  22,  25,  61,  45,  91,  74,  75,  70,  93, 121,  54,\n",
       "        69,  52,  59,  87,  73,  47,  67,  27,  77,  42,  32,  34,  57,\n",
       "        37,  28,  51,  10,  19,  20,  30,   8,  15,   9,  17,   3,   1,\n",
       "         5,   2,  14,   4])"
      ]
     },
     "execution_count": 18,
     "metadata": {},
     "output_type": "execute_result"
    }
   ],
   "source": [
    "df_graph.unique()"
   ]
  },
  {
   "cell_type": "code",
   "execution_count": 19,
   "metadata": {
    "collapsed": false
   },
   "outputs": [],
   "source": [
    "df_attempt = df_cleaning.groupby([\"Age\", \"From\"])['Ids'].count()"
   ]
  },
  {
   "cell_type": "code",
   "execution_count": 20,
   "metadata": {
    "collapsed": false
   },
   "outputs": [],
   "source": [
    "df_attempt = pd.DataFrame(df_attempt)"
   ]
  },
  {
   "cell_type": "code",
   "execution_count": 21,
   "metadata": {
    "collapsed": false
   },
   "outputs": [],
   "source": [
    "df = df_attempt.reset_index()"
   ]
  },
  {
   "cell_type": "code",
   "execution_count": 22,
   "metadata": {
    "collapsed": false
   },
   "outputs": [
    {
     "data": {
      "text/html": [
       "<div>\n",
       "<table border=\"1\" class=\"dataframe\">\n",
       "  <thead>\n",
       "    <tr style=\"text-align: right;\">\n",
       "      <th></th>\n",
       "      <th>Age</th>\n",
       "      <th>From</th>\n",
       "      <th>Ids</th>\n",
       "    </tr>\n",
       "  </thead>\n",
       "  <tbody>\n",
       "    <tr>\n",
       "      <th>0</th>\n",
       "      <td>18.0</td>\n",
       "      <td>m</td>\n",
       "      <td>10</td>\n",
       "    </tr>\n",
       "    <tr>\n",
       "      <th>1</th>\n",
       "      <td>18.0</td>\n",
       "      <td>t</td>\n",
       "      <td>1</td>\n",
       "    </tr>\n",
       "    <tr>\n",
       "      <th>2</th>\n",
       "      <td>18.0</td>\n",
       "      <td>w</td>\n",
       "      <td>2</td>\n",
       "    </tr>\n",
       "  </tbody>\n",
       "</table>\n",
       "</div>"
      ],
      "text/plain": [
       "    Age From  Ids\n",
       "0  18.0    m   10\n",
       "1  18.0    t    1\n",
       "2  18.0    w    2"
      ]
     },
     "execution_count": 22,
     "metadata": {},
     "output_type": "execute_result"
    }
   ],
   "source": [
    "df.head(3)"
   ]
  },
  {
   "cell_type": "code",
   "execution_count": 23,
   "metadata": {
    "collapsed": false
   },
   "outputs": [],
   "source": [
    "def custom_aggregation_function(x):\n",
    "    try:\n",
    "        return x.iloc[3]\n",
    "    except:\n",
    "        return 0\n",
    "\n",
    "\n",
    "df_pivot = pd.pivot_table(df, values='Ids', columns= 'From', index = 'Age', fill_value= 0).reset_index()"
   ]
  },
  {
   "cell_type": "code",
   "execution_count": 24,
   "metadata": {
    "collapsed": false
   },
   "outputs": [
    {
     "data": {
      "text/html": [
       "<div>\n",
       "<table border=\"1\" class=\"dataframe\">\n",
       "  <thead>\n",
       "    <tr style=\"text-align: right;\">\n",
       "      <th>From</th>\n",
       "      <th>Age</th>\n",
       "      <th>couple</th>\n",
       "      <th>m</th>\n",
       "      <th>t</th>\n",
       "      <th>w</th>\n",
       "    </tr>\n",
       "  </thead>\n",
       "  <tbody>\n",
       "    <tr>\n",
       "      <th>0</th>\n",
       "      <td>18.0</td>\n",
       "      <td>0</td>\n",
       "      <td>10</td>\n",
       "      <td>1</td>\n",
       "      <td>2</td>\n",
       "    </tr>\n",
       "    <tr>\n",
       "      <th>1</th>\n",
       "      <td>19.0</td>\n",
       "      <td>0</td>\n",
       "      <td>6</td>\n",
       "      <td>0</td>\n",
       "      <td>1</td>\n",
       "    </tr>\n",
       "    <tr>\n",
       "      <th>2</th>\n",
       "      <td>20.0</td>\n",
       "      <td>0</td>\n",
       "      <td>9</td>\n",
       "      <td>0</td>\n",
       "      <td>4</td>\n",
       "    </tr>\n",
       "    <tr>\n",
       "      <th>3</th>\n",
       "      <td>21.0</td>\n",
       "      <td>0</td>\n",
       "      <td>18</td>\n",
       "      <td>0</td>\n",
       "      <td>4</td>\n",
       "    </tr>\n",
       "    <tr>\n",
       "      <th>4</th>\n",
       "      <td>22.0</td>\n",
       "      <td>0</td>\n",
       "      <td>21</td>\n",
       "      <td>0</td>\n",
       "      <td>4</td>\n",
       "    </tr>\n",
       "  </tbody>\n",
       "</table>\n",
       "</div>"
      ],
      "text/plain": [
       "From   Age  couple   m  t  w\n",
       "0     18.0       0  10  1  2\n",
       "1     19.0       0   6  0  1\n",
       "2     20.0       0   9  0  4\n",
       "3     21.0       0  18  0  4\n",
       "4     22.0       0  21  0  4"
      ]
     },
     "execution_count": 24,
     "metadata": {},
     "output_type": "execute_result"
    }
   ],
   "source": [
    "df_pivot.head()"
   ]
  },
  {
   "cell_type": "code",
   "execution_count": 25,
   "metadata": {
    "collapsed": false
   },
   "outputs": [
    {
     "ename": "NameError",
     "evalue": "name 'df_from_json' is not defined",
     "output_type": "error",
     "traceback": [
      "\u001b[0;31m---------------------------------------------------------------------------\u001b[0m",
      "\u001b[0;31mNameError\u001b[0m                                 Traceback (most recent call last)",
      "\u001b[0;32m<ipython-input-25-bb7c43fd836b>\u001b[0m in \u001b[0;36m<module>\u001b[0;34m()\u001b[0m\n\u001b[0;32m----> 1\u001b[0;31m \u001b[0mdf\u001b[0m \u001b[0;34m=\u001b[0m \u001b[0mdf_from_json\u001b[0m\u001b[0;34m(\u001b[0m\u001b[0mdata\u001b[0m\u001b[0;34m)\u001b[0m\u001b[0;34m\u001b[0m\u001b[0m\n\u001b[0m",
      "\u001b[0;31mNameError\u001b[0m: name 'df_from_json' is not defined"
     ]
    }
   ],
   "source": [
    "df = df_from_json(data)"
   ]
  },
  {
   "cell_type": "code",
   "execution_count": 26,
   "metadata": {
    "collapsed": false
   },
   "outputs": [],
   "source": [
    "from bokeh.charts import Bar, output_file, show\n",
    "from bokeh.charts.attributes import cat, color\n",
    "from bokeh.charts.operations import blend\n",
    "from bokeh.charts.utils import df_from_json\n",
    "from bokeh.sampledata.olympics2014 import data\n",
    "\n",
    "# utilize utility to make it easy to get json/dict data converted to a dataframe\n",
    "# df = df_from_json(data)\n",
    "\n",
    "# # filter by countries with at least one medal and sort by total medals\n",
    "# df = df[df['total'] > 0]\n",
    "# df = df.sort(\"total\", ascending=False)\n",
    "\n",
    "bar = Bar(df_pivot,\n",
    "          values=blend('couple','m','w', name='medals', labels_name='medal'),\n",
    "          label=cat(columns='Age', sort=False),\n",
    "          stack=cat(columns='medal', sort=False),\n",
    "          color=color(columns='medal', palette=['Green', 'Blue', 'Pink'],\n",
    "                      sort=False),\n",
    "          legend='top_right',\n",
    "          title=\"Medals per Country, Sorted by Total Medals\",\n",
    "          tooltips=[('medal', '@medal'), ('country', '@abbr')])\n",
    "\n",
    "output_file(\"stacked_bar.html\", title=\"stacked_bar.py example\")\n",
    "\n",
    "show(bar)"
   ]
  },
  {
   "cell_type": "markdown",
   "metadata": {},
   "source": [
    "### Exploring Date_time"
   ]
  },
  {
   "cell_type": "code",
   "execution_count": 27,
   "metadata": {
    "collapsed": false
   },
   "outputs": [],
   "source": [
    "df = df_cleaning"
   ]
  },
  {
   "cell_type": "code",
   "execution_count": 28,
   "metadata": {
    "collapsed": false
   },
   "outputs": [
    {
     "data": {
      "text/plain": [
       "dtype('O')"
      ]
     },
     "execution_count": 28,
     "metadata": {},
     "output_type": "execute_result"
    }
   ],
   "source": [
    "df.Datetime.dtype"
   ]
  },
  {
   "cell_type": "code",
   "execution_count": 29,
   "metadata": {
    "collapsed": false
   },
   "outputs": [],
   "source": [
    "df_date = pd.to_datetime(pd.Series(df.Datetime))"
   ]
  },
  {
   "cell_type": "code",
   "execution_count": 30,
   "metadata": {
    "collapsed": false
   },
   "outputs": [],
   "source": [
    "df_date = pd.DataFrame(df_date)"
   ]
  },
  {
   "cell_type": "code",
   "execution_count": 31,
   "metadata": {
    "collapsed": false
   },
   "outputs": [],
   "source": [
    "# df_date[\"only_date\"] = [d.date() for d in df_date['Datetime']]\n",
    "df[\"only_time_hour\"] = [d.hour for d in df_date['Datetime']]"
   ]
  },
  {
   "cell_type": "code",
   "execution_count": 32,
   "metadata": {
    "collapsed": false,
    "scrolled": true
   },
   "outputs": [
    {
     "data": {
      "text/html": [
       "<div>\n",
       "<table border=\"1\" class=\"dataframe\">\n",
       "  <thead>\n",
       "    <tr style=\"text-align: right;\">\n",
       "      <th></th>\n",
       "      <th>Ids</th>\n",
       "      <th>Title</th>\n",
       "      <th>City</th>\n",
       "      <th>Geo_Tag</th>\n",
       "      <th>Where</th>\n",
       "      <th>Who_to</th>\n",
       "      <th>Age</th>\n",
       "      <th>Height</th>\n",
       "      <th>Body_type</th>\n",
       "      <th>Body</th>\n",
       "      <th>Datetime</th>\n",
       "      <th>Has_Image</th>\n",
       "      <th>Has_Maps</th>\n",
       "      <th>URL</th>\n",
       "      <th>From</th>\n",
       "      <th>To</th>\n",
       "      <th>only_time_hour</th>\n",
       "    </tr>\n",
       "  </thead>\n",
       "  <tbody>\n",
       "    <tr>\n",
       "      <th>1</th>\n",
       "      <td>5.961141e+09</td>\n",
       "      <td>Pokémon Hunter in Van</td>\n",
       "      <td>austin</td>\n",
       "      <td>NaN</td>\n",
       "      <td>Downtown Round Rock</td>\n",
       "      <td>[m, m]</td>\n",
       "      <td>28.0</td>\n",
       "      <td>NaN</td>\n",
       "      <td>athletic</td>\n",
       "      <td>I was Pokémon Hunting downtown today it was ab...</td>\n",
       "      <td>2017-01-19 00:45</td>\n",
       "      <td>True</td>\n",
       "      <td>True</td>\n",
       "      <td>http://austin.craigslist.org/mis/5961140651.html</td>\n",
       "      <td>m</td>\n",
       "      <td>m</td>\n",
       "      <td>0</td>\n",
       "    </tr>\n",
       "    <tr>\n",
       "      <th>2</th>\n",
       "      <td>5.965702e+09</td>\n",
       "      <td>Heb this evening</td>\n",
       "      <td>austin</td>\n",
       "      <td>(30.299463, -97.720041)</td>\n",
       "      <td>Hancock</td>\n",
       "      <td>[m, m]</td>\n",
       "      <td>58.0</td>\n",
       "      <td>NaN</td>\n",
       "      <td>fit</td>\n",
       "      <td>Long shot here but for some reason I can't let...</td>\n",
       "      <td>2017-01-19 00:21</td>\n",
       "      <td>False</td>\n",
       "      <td>True</td>\n",
       "      <td>http://austin.craigslist.org/mis/5965702493.html</td>\n",
       "      <td>m</td>\n",
       "      <td>m</td>\n",
       "      <td>0</td>\n",
       "    </tr>\n",
       "    <tr>\n",
       "      <th>3</th>\n",
       "      <td>5.965675e+09</td>\n",
       "      <td>Baby Mamas Beware!!!</td>\n",
       "      <td>austin</td>\n",
       "      <td>NaN</td>\n",
       "      <td>NaN</td>\n",
       "      <td>[m, w]</td>\n",
       "      <td>36.0</td>\n",
       "      <td>NaN</td>\n",
       "      <td>NaN</td>\n",
       "      <td>I am not a man seeking a woman I am a woman he...</td>\n",
       "      <td>2017-01-18 23:26</td>\n",
       "      <td>False</td>\n",
       "      <td>True</td>\n",
       "      <td>http://austin.craigslist.org/mis/5965674600.html</td>\n",
       "      <td>m</td>\n",
       "      <td>w</td>\n",
       "      <td>23</td>\n",
       "    </tr>\n",
       "    <tr>\n",
       "      <th>4</th>\n",
       "      <td>5.965667e+09</td>\n",
       "      <td>I'm free!</td>\n",
       "      <td>austin</td>\n",
       "      <td>NaN</td>\n",
       "      <td>NaN</td>\n",
       "      <td>[w, m]</td>\n",
       "      <td>65.0</td>\n",
       "      <td>NaN</td>\n",
       "      <td>NaN</td>\n",
       "      <td>I'm finally free!! I'm not scared of you anymo...</td>\n",
       "      <td>2017-01-18 23:14</td>\n",
       "      <td>False</td>\n",
       "      <td>True</td>\n",
       "      <td>http://austin.craigslist.org/mis/5965667199.html</td>\n",
       "      <td>w</td>\n",
       "      <td>m</td>\n",
       "      <td>23</td>\n",
       "    </tr>\n",
       "    <tr>\n",
       "      <th>5</th>\n",
       "      <td>5.965516e+09</td>\n",
       "      <td>Hot girl on the 201 bus about 7:45pm</td>\n",
       "      <td>austin</td>\n",
       "      <td>(30.161204, -97.801557)</td>\n",
       "      <td>South first</td>\n",
       "      <td>[m, w]</td>\n",
       "      <td>40.0</td>\n",
       "      <td>NaN</td>\n",
       "      <td>NaN</td>\n",
       "      <td>You kept looking at me from the back right sid...</td>\n",
       "      <td>2017-01-18 20:06</td>\n",
       "      <td>False</td>\n",
       "      <td>True</td>\n",
       "      <td>http://austin.craigslist.org/mis/5965515862.html</td>\n",
       "      <td>m</td>\n",
       "      <td>w</td>\n",
       "      <td>20</td>\n",
       "    </tr>\n",
       "  </tbody>\n",
       "</table>\n",
       "</div>"
      ],
      "text/plain": [
       "            Ids                                 Title    City  \\\n",
       "1  5.961141e+09                 Pokémon Hunter in Van  austin   \n",
       "2  5.965702e+09                      Heb this evening  austin   \n",
       "3  5.965675e+09                  Baby Mamas Beware!!!  austin   \n",
       "4  5.965667e+09                             I'm free!  austin   \n",
       "5  5.965516e+09  Hot girl on the 201 bus about 7:45pm  austin   \n",
       "\n",
       "                   Geo_Tag                Where  Who_to   Age Height  \\\n",
       "1                      NaN  Downtown Round Rock  [m, m]  28.0    NaN   \n",
       "2  (30.299463, -97.720041)              Hancock  [m, m]  58.0    NaN   \n",
       "3                      NaN                  NaN  [m, w]  36.0    NaN   \n",
       "4                      NaN                  NaN  [w, m]  65.0    NaN   \n",
       "5  (30.161204, -97.801557)          South first  [m, w]  40.0    NaN   \n",
       "\n",
       "  Body_type                                               Body  \\\n",
       "1  athletic  I was Pokémon Hunting downtown today it was ab...   \n",
       "2       fit  Long shot here but for some reason I can't let...   \n",
       "3       NaN  I am not a man seeking a woman I am a woman he...   \n",
       "4       NaN  I'm finally free!! I'm not scared of you anymo...   \n",
       "5       NaN  You kept looking at me from the back right sid...   \n",
       "\n",
       "           Datetime Has_Image Has_Maps  \\\n",
       "1  2017-01-19 00:45      True     True   \n",
       "2  2017-01-19 00:21     False     True   \n",
       "3  2017-01-18 23:26     False     True   \n",
       "4  2017-01-18 23:14     False     True   \n",
       "5  2017-01-18 20:06     False     True   \n",
       "\n",
       "                                                URL From To  only_time_hour  \n",
       "1  http://austin.craigslist.org/mis/5961140651.html    m  m               0  \n",
       "2  http://austin.craigslist.org/mis/5965702493.html    m  m               0  \n",
       "3  http://austin.craigslist.org/mis/5965674600.html    m  w              23  \n",
       "4  http://austin.craigslist.org/mis/5965667199.html    w  m              23  \n",
       "5  http://austin.craigslist.org/mis/5965515862.html    m  w              20  "
      ]
     },
     "execution_count": 32,
     "metadata": {},
     "output_type": "execute_result"
    }
   ],
   "source": [
    "df.head(5)"
   ]
  },
  {
   "cell_type": "code",
   "execution_count": 33,
   "metadata": {
    "collapsed": false
   },
   "outputs": [],
   "source": [
    "z = df.groupby(['only_time_hour','From'])['Ids'].count()"
   ]
  },
  {
   "cell_type": "code",
   "execution_count": 34,
   "metadata": {
    "collapsed": false,
    "scrolled": false
   },
   "outputs": [],
   "source": [
    "df_grouped = pd.DataFrame(z).reset_index()"
   ]
  },
  {
   "cell_type": "code",
   "execution_count": 35,
   "metadata": {
    "collapsed": false,
    "scrolled": true
   },
   "outputs": [
    {
     "data": {
      "text/html": [
       "<div>\n",
       "<table border=\"1\" class=\"dataframe\">\n",
       "  <thead>\n",
       "    <tr style=\"text-align: right;\">\n",
       "      <th></th>\n",
       "      <th>only_time_hour</th>\n",
       "      <th>From</th>\n",
       "      <th>Ids</th>\n",
       "    </tr>\n",
       "  </thead>\n",
       "  <tbody>\n",
       "    <tr>\n",
       "      <th>0</th>\n",
       "      <td>0</td>\n",
       "      <td>m</td>\n",
       "      <td>39</td>\n",
       "    </tr>\n",
       "    <tr>\n",
       "      <th>1</th>\n",
       "      <td>0</td>\n",
       "      <td>t</td>\n",
       "      <td>2</td>\n",
       "    </tr>\n",
       "    <tr>\n",
       "      <th>2</th>\n",
       "      <td>0</td>\n",
       "      <td>w</td>\n",
       "      <td>20</td>\n",
       "    </tr>\n",
       "    <tr>\n",
       "      <th>3</th>\n",
       "      <td>1</td>\n",
       "      <td>m</td>\n",
       "      <td>35</td>\n",
       "    </tr>\n",
       "    <tr>\n",
       "      <th>4</th>\n",
       "      <td>1</td>\n",
       "      <td>t</td>\n",
       "      <td>1</td>\n",
       "    </tr>\n",
       "    <tr>\n",
       "      <th>5</th>\n",
       "      <td>1</td>\n",
       "      <td>w</td>\n",
       "      <td>14</td>\n",
       "    </tr>\n",
       "    <tr>\n",
       "      <th>6</th>\n",
       "      <td>2</td>\n",
       "      <td>m</td>\n",
       "      <td>21</td>\n",
       "    </tr>\n",
       "    <tr>\n",
       "      <th>7</th>\n",
       "      <td>2</td>\n",
       "      <td>w</td>\n",
       "      <td>8</td>\n",
       "    </tr>\n",
       "    <tr>\n",
       "      <th>8</th>\n",
       "      <td>3</td>\n",
       "      <td>m</td>\n",
       "      <td>17</td>\n",
       "    </tr>\n",
       "    <tr>\n",
       "      <th>9</th>\n",
       "      <td>3</td>\n",
       "      <td>t</td>\n",
       "      <td>1</td>\n",
       "    </tr>\n",
       "    <tr>\n",
       "      <th>10</th>\n",
       "      <td>3</td>\n",
       "      <td>w</td>\n",
       "      <td>5</td>\n",
       "    </tr>\n",
       "    <tr>\n",
       "      <th>11</th>\n",
       "      <td>4</td>\n",
       "      <td>m</td>\n",
       "      <td>19</td>\n",
       "    </tr>\n",
       "    <tr>\n",
       "      <th>12</th>\n",
       "      <td>4</td>\n",
       "      <td>t</td>\n",
       "      <td>1</td>\n",
       "    </tr>\n",
       "    <tr>\n",
       "      <th>13</th>\n",
       "      <td>4</td>\n",
       "      <td>w</td>\n",
       "      <td>6</td>\n",
       "    </tr>\n",
       "    <tr>\n",
       "      <th>14</th>\n",
       "      <td>5</td>\n",
       "      <td>m</td>\n",
       "      <td>20</td>\n",
       "    </tr>\n",
       "    <tr>\n",
       "      <th>15</th>\n",
       "      <td>5</td>\n",
       "      <td>w</td>\n",
       "      <td>7</td>\n",
       "    </tr>\n",
       "    <tr>\n",
       "      <th>16</th>\n",
       "      <td>6</td>\n",
       "      <td>m</td>\n",
       "      <td>31</td>\n",
       "    </tr>\n",
       "    <tr>\n",
       "      <th>17</th>\n",
       "      <td>6</td>\n",
       "      <td>w</td>\n",
       "      <td>3</td>\n",
       "    </tr>\n",
       "    <tr>\n",
       "      <th>18</th>\n",
       "      <td>7</td>\n",
       "      <td>m</td>\n",
       "      <td>68</td>\n",
       "    </tr>\n",
       "    <tr>\n",
       "      <th>19</th>\n",
       "      <td>7</td>\n",
       "      <td>w</td>\n",
       "      <td>7</td>\n",
       "    </tr>\n",
       "    <tr>\n",
       "      <th>20</th>\n",
       "      <td>8</td>\n",
       "      <td>couple</td>\n",
       "      <td>1</td>\n",
       "    </tr>\n",
       "    <tr>\n",
       "      <th>21</th>\n",
       "      <td>8</td>\n",
       "      <td>m</td>\n",
       "      <td>80</td>\n",
       "    </tr>\n",
       "    <tr>\n",
       "      <th>22</th>\n",
       "      <td>8</td>\n",
       "      <td>t</td>\n",
       "      <td>1</td>\n",
       "    </tr>\n",
       "    <tr>\n",
       "      <th>23</th>\n",
       "      <td>8</td>\n",
       "      <td>w</td>\n",
       "      <td>6</td>\n",
       "    </tr>\n",
       "    <tr>\n",
       "      <th>24</th>\n",
       "      <td>9</td>\n",
       "      <td>couple</td>\n",
       "      <td>1</td>\n",
       "    </tr>\n",
       "    <tr>\n",
       "      <th>25</th>\n",
       "      <td>9</td>\n",
       "      <td>m</td>\n",
       "      <td>80</td>\n",
       "    </tr>\n",
       "    <tr>\n",
       "      <th>26</th>\n",
       "      <td>9</td>\n",
       "      <td>t</td>\n",
       "      <td>1</td>\n",
       "    </tr>\n",
       "    <tr>\n",
       "      <th>27</th>\n",
       "      <td>9</td>\n",
       "      <td>w</td>\n",
       "      <td>14</td>\n",
       "    </tr>\n",
       "    <tr>\n",
       "      <th>28</th>\n",
       "      <td>10</td>\n",
       "      <td>couple</td>\n",
       "      <td>2</td>\n",
       "    </tr>\n",
       "    <tr>\n",
       "      <th>29</th>\n",
       "      <td>10</td>\n",
       "      <td>m</td>\n",
       "      <td>85</td>\n",
       "    </tr>\n",
       "    <tr>\n",
       "      <th>...</th>\n",
       "      <td>...</td>\n",
       "      <td>...</td>\n",
       "      <td>...</td>\n",
       "    </tr>\n",
       "    <tr>\n",
       "      <th>38</th>\n",
       "      <td>12</td>\n",
       "      <td>w</td>\n",
       "      <td>12</td>\n",
       "    </tr>\n",
       "    <tr>\n",
       "      <th>39</th>\n",
       "      <td>13</td>\n",
       "      <td>couple</td>\n",
       "      <td>1</td>\n",
       "    </tr>\n",
       "    <tr>\n",
       "      <th>40</th>\n",
       "      <td>13</td>\n",
       "      <td>m</td>\n",
       "      <td>92</td>\n",
       "    </tr>\n",
       "    <tr>\n",
       "      <th>41</th>\n",
       "      <td>13</td>\n",
       "      <td>w</td>\n",
       "      <td>12</td>\n",
       "    </tr>\n",
       "    <tr>\n",
       "      <th>42</th>\n",
       "      <td>14</td>\n",
       "      <td>m</td>\n",
       "      <td>68</td>\n",
       "    </tr>\n",
       "    <tr>\n",
       "      <th>43</th>\n",
       "      <td>14</td>\n",
       "      <td>w</td>\n",
       "      <td>26</td>\n",
       "    </tr>\n",
       "    <tr>\n",
       "      <th>44</th>\n",
       "      <td>15</td>\n",
       "      <td>m</td>\n",
       "      <td>84</td>\n",
       "    </tr>\n",
       "    <tr>\n",
       "      <th>45</th>\n",
       "      <td>15</td>\n",
       "      <td>w</td>\n",
       "      <td>7</td>\n",
       "    </tr>\n",
       "    <tr>\n",
       "      <th>46</th>\n",
       "      <td>16</td>\n",
       "      <td>m</td>\n",
       "      <td>70</td>\n",
       "    </tr>\n",
       "    <tr>\n",
       "      <th>47</th>\n",
       "      <td>16</td>\n",
       "      <td>t</td>\n",
       "      <td>2</td>\n",
       "    </tr>\n",
       "    <tr>\n",
       "      <th>48</th>\n",
       "      <td>16</td>\n",
       "      <td>w</td>\n",
       "      <td>12</td>\n",
       "    </tr>\n",
       "    <tr>\n",
       "      <th>49</th>\n",
       "      <td>17</td>\n",
       "      <td>m</td>\n",
       "      <td>66</td>\n",
       "    </tr>\n",
       "    <tr>\n",
       "      <th>50</th>\n",
       "      <td>17</td>\n",
       "      <td>t</td>\n",
       "      <td>2</td>\n",
       "    </tr>\n",
       "    <tr>\n",
       "      <th>51</th>\n",
       "      <td>17</td>\n",
       "      <td>w</td>\n",
       "      <td>19</td>\n",
       "    </tr>\n",
       "    <tr>\n",
       "      <th>52</th>\n",
       "      <td>18</td>\n",
       "      <td>m</td>\n",
       "      <td>92</td>\n",
       "    </tr>\n",
       "    <tr>\n",
       "      <th>53</th>\n",
       "      <td>18</td>\n",
       "      <td>w</td>\n",
       "      <td>15</td>\n",
       "    </tr>\n",
       "    <tr>\n",
       "      <th>54</th>\n",
       "      <td>19</td>\n",
       "      <td>m</td>\n",
       "      <td>74</td>\n",
       "    </tr>\n",
       "    <tr>\n",
       "      <th>55</th>\n",
       "      <td>19</td>\n",
       "      <td>w</td>\n",
       "      <td>20</td>\n",
       "    </tr>\n",
       "    <tr>\n",
       "      <th>56</th>\n",
       "      <td>20</td>\n",
       "      <td>couple</td>\n",
       "      <td>1</td>\n",
       "    </tr>\n",
       "    <tr>\n",
       "      <th>57</th>\n",
       "      <td>20</td>\n",
       "      <td>m</td>\n",
       "      <td>72</td>\n",
       "    </tr>\n",
       "    <tr>\n",
       "      <th>58</th>\n",
       "      <td>20</td>\n",
       "      <td>t</td>\n",
       "      <td>2</td>\n",
       "    </tr>\n",
       "    <tr>\n",
       "      <th>59</th>\n",
       "      <td>20</td>\n",
       "      <td>w</td>\n",
       "      <td>26</td>\n",
       "    </tr>\n",
       "    <tr>\n",
       "      <th>60</th>\n",
       "      <td>21</td>\n",
       "      <td>m</td>\n",
       "      <td>96</td>\n",
       "    </tr>\n",
       "    <tr>\n",
       "      <th>61</th>\n",
       "      <td>21</td>\n",
       "      <td>w</td>\n",
       "      <td>20</td>\n",
       "    </tr>\n",
       "    <tr>\n",
       "      <th>62</th>\n",
       "      <td>22</td>\n",
       "      <td>m</td>\n",
       "      <td>87</td>\n",
       "    </tr>\n",
       "    <tr>\n",
       "      <th>63</th>\n",
       "      <td>22</td>\n",
       "      <td>t</td>\n",
       "      <td>2</td>\n",
       "    </tr>\n",
       "    <tr>\n",
       "      <th>64</th>\n",
       "      <td>22</td>\n",
       "      <td>w</td>\n",
       "      <td>34</td>\n",
       "    </tr>\n",
       "    <tr>\n",
       "      <th>65</th>\n",
       "      <td>23</td>\n",
       "      <td>m</td>\n",
       "      <td>80</td>\n",
       "    </tr>\n",
       "    <tr>\n",
       "      <th>66</th>\n",
       "      <td>23</td>\n",
       "      <td>t</td>\n",
       "      <td>1</td>\n",
       "    </tr>\n",
       "    <tr>\n",
       "      <th>67</th>\n",
       "      <td>23</td>\n",
       "      <td>w</td>\n",
       "      <td>18</td>\n",
       "    </tr>\n",
       "  </tbody>\n",
       "</table>\n",
       "<p>68 rows × 3 columns</p>\n",
       "</div>"
      ],
      "text/plain": [
       "    only_time_hour    From  Ids\n",
       "0                0       m   39\n",
       "1                0       t    2\n",
       "2                0       w   20\n",
       "3                1       m   35\n",
       "4                1       t    1\n",
       "5                1       w   14\n",
       "6                2       m   21\n",
       "7                2       w    8\n",
       "8                3       m   17\n",
       "9                3       t    1\n",
       "10               3       w    5\n",
       "11               4       m   19\n",
       "12               4       t    1\n",
       "13               4       w    6\n",
       "14               5       m   20\n",
       "15               5       w    7\n",
       "16               6       m   31\n",
       "17               6       w    3\n",
       "18               7       m   68\n",
       "19               7       w    7\n",
       "20               8  couple    1\n",
       "21               8       m   80\n",
       "22               8       t    1\n",
       "23               8       w    6\n",
       "24               9  couple    1\n",
       "25               9       m   80\n",
       "26               9       t    1\n",
       "27               9       w   14\n",
       "28              10  couple    2\n",
       "29              10       m   85\n",
       "..             ...     ...  ...\n",
       "38              12       w   12\n",
       "39              13  couple    1\n",
       "40              13       m   92\n",
       "41              13       w   12\n",
       "42              14       m   68\n",
       "43              14       w   26\n",
       "44              15       m   84\n",
       "45              15       w    7\n",
       "46              16       m   70\n",
       "47              16       t    2\n",
       "48              16       w   12\n",
       "49              17       m   66\n",
       "50              17       t    2\n",
       "51              17       w   19\n",
       "52              18       m   92\n",
       "53              18       w   15\n",
       "54              19       m   74\n",
       "55              19       w   20\n",
       "56              20  couple    1\n",
       "57              20       m   72\n",
       "58              20       t    2\n",
       "59              20       w   26\n",
       "60              21       m   96\n",
       "61              21       w   20\n",
       "62              22       m   87\n",
       "63              22       t    2\n",
       "64              22       w   34\n",
       "65              23       m   80\n",
       "66              23       t    1\n",
       "67              23       w   18\n",
       "\n",
       "[68 rows x 3 columns]"
      ]
     },
     "execution_count": 35,
     "metadata": {},
     "output_type": "execute_result"
    }
   ],
   "source": [
    "df_grouped"
   ]
  },
  {
   "cell_type": "code",
   "execution_count": 36,
   "metadata": {
    "collapsed": false
   },
   "outputs": [
    {
     "data": {
      "text/html": [
       "<div>\n",
       "<table border=\"1\" class=\"dataframe\">\n",
       "  <thead>\n",
       "    <tr style=\"text-align: right;\">\n",
       "      <th></th>\n",
       "      <th>only_time_hour</th>\n",
       "      <th>From</th>\n",
       "      <th>Ids</th>\n",
       "    </tr>\n",
       "  </thead>\n",
       "  <tbody>\n",
       "    <tr>\n",
       "      <th>0</th>\n",
       "      <td>0</td>\n",
       "      <td>m</td>\n",
       "      <td>39</td>\n",
       "    </tr>\n",
       "    <tr>\n",
       "      <th>1</th>\n",
       "      <td>0</td>\n",
       "      <td>t</td>\n",
       "      <td>2</td>\n",
       "    </tr>\n",
       "  </tbody>\n",
       "</table>\n",
       "</div>"
      ],
      "text/plain": [
       "   only_time_hour From  Ids\n",
       "0               0    m   39\n",
       "1               0    t    2"
      ]
     },
     "execution_count": 36,
     "metadata": {},
     "output_type": "execute_result"
    }
   ],
   "source": [
    "df_grouped.head(2)"
   ]
  },
  {
   "cell_type": "code",
   "execution_count": 37,
   "metadata": {
    "collapsed": false,
    "scrolled": true
   },
   "outputs": [],
   "source": [
    "def custom_aggregation_function(x):\n",
    "    try:\n",
    "        return x.iloc[3]\n",
    "    except:\n",
    "        return 0\n",
    "\n",
    "\n",
    "df_pivot = pd.pivot_table(df_grouped, values='Ids', columns= 'From', index = 'only_time_hour', fill_value= 0).reset_index()"
   ]
  },
  {
   "cell_type": "code",
   "execution_count": 38,
   "metadata": {
    "collapsed": false
   },
   "outputs": [
    {
     "data": {
      "text/html": [
       "<div>\n",
       "<table border=\"1\" class=\"dataframe\">\n",
       "  <thead>\n",
       "    <tr style=\"text-align: right;\">\n",
       "      <th>From</th>\n",
       "      <th>only_time_hour</th>\n",
       "      <th>couple</th>\n",
       "      <th>m</th>\n",
       "      <th>t</th>\n",
       "      <th>w</th>\n",
       "    </tr>\n",
       "  </thead>\n",
       "  <tbody>\n",
       "    <tr>\n",
       "      <th>0</th>\n",
       "      <td>0</td>\n",
       "      <td>0</td>\n",
       "      <td>39</td>\n",
       "      <td>2</td>\n",
       "      <td>20</td>\n",
       "    </tr>\n",
       "    <tr>\n",
       "      <th>1</th>\n",
       "      <td>1</td>\n",
       "      <td>0</td>\n",
       "      <td>35</td>\n",
       "      <td>1</td>\n",
       "      <td>14</td>\n",
       "    </tr>\n",
       "    <tr>\n",
       "      <th>2</th>\n",
       "      <td>2</td>\n",
       "      <td>0</td>\n",
       "      <td>21</td>\n",
       "      <td>0</td>\n",
       "      <td>8</td>\n",
       "    </tr>\n",
       "    <tr>\n",
       "      <th>3</th>\n",
       "      <td>3</td>\n",
       "      <td>0</td>\n",
       "      <td>17</td>\n",
       "      <td>1</td>\n",
       "      <td>5</td>\n",
       "    </tr>\n",
       "    <tr>\n",
       "      <th>4</th>\n",
       "      <td>4</td>\n",
       "      <td>0</td>\n",
       "      <td>19</td>\n",
       "      <td>1</td>\n",
       "      <td>6</td>\n",
       "    </tr>\n",
       "  </tbody>\n",
       "</table>\n",
       "</div>"
      ],
      "text/plain": [
       "From  only_time_hour  couple   m  t   w\n",
       "0                  0       0  39  2  20\n",
       "1                  1       0  35  1  14\n",
       "2                  2       0  21  0   8\n",
       "3                  3       0  17  1   5\n",
       "4                  4       0  19  1   6"
      ]
     },
     "execution_count": 38,
     "metadata": {},
     "output_type": "execute_result"
    }
   ],
   "source": [
    "df_pivot.head()"
   ]
  },
  {
   "cell_type": "code",
   "execution_count": 740,
   "metadata": {
    "collapsed": true
   },
   "outputs": [],
   "source": [
    "import seaborn as sns"
   ]
  },
  {
   "cell_type": "code",
   "execution_count": 741,
   "metadata": {
    "collapsed": false
   },
   "outputs": [
    {
     "name": "stderr",
     "output_type": "stream",
     "text": [
      "INFO:bokeh.core.state:Session output file 'stacked_bar.html' already exists, will be overwritten.\n"
     ]
    }
   ],
   "source": [
    "from bokeh.charts import Bar, output_file, show\n",
    "from bokeh.charts.attributes import cat, color\n",
    "from bokeh.charts.operations import blend\n",
    "from bokeh.charts.utils import df_from_json\n",
    "from bokeh.sampledata.olympics2014 import data\n",
    "\n",
    "# utilize utility to make it easy to get json/dict data converted to a dataframe\n",
    "# df = df_from_json(data)\n",
    "\n",
    "# # filter by countries with at least one medal and sort by total medals\n",
    "# df = df[df['total'] > 0]\n",
    "# df = df.sort(\"total\", ascending=False)\n",
    "\n",
    "bar = Bar(df_pivot,\n",
    "          values=blend('couple','m','w', name='medals', labels_name='medal'),\n",
    "          label=cat(columns='only_time_hour', sort=False),\n",
    "          stack=cat(columns='medal', sort=False),\n",
    "          color=color(columns='medal', palette=['Green', 'Blue', 'Pink'],\n",
    "                      sort=False),\n",
    "          legend='top_right',\n",
    "          title=\"Medals per Country, Sorted by Total Medals\",\n",
    "          tooltips=[('medal', '@medal'), ('country', '@abbr')])\n",
    "\n",
    "output_file(\"stacked_bar.html\", title=\"stacked_bar.py example\")\n",
    "\n",
    "show(bar)"
   ]
  },
  {
   "cell_type": "code",
   "execution_count": null,
   "metadata": {
    "collapsed": false,
    "scrolled": true
   },
   "outputs": [],
   "source": [
    "data.head()"
   ]
  },
  {
   "cell_type": "code",
   "execution_count": null,
   "metadata": {
    "collapsed": false
   },
   "outputs": [],
   "source": [
    "import numpy as np\n",
    "import matplotlib.pyplot as plt\n",
    "\n",
    "data = df_pivot\n",
    "\n",
    "x = df_pivot.only_time_hour\n",
    "\n",
    "A = df_pivot.m\n",
    "B = df_pivot.w\n",
    "C = df_pivot.couple\n",
    "\n",
    "plt.bar(x, A, color = 'b', width = 0.25)\n",
    "plt.bar(x, B, color = 'g', width = 0.25)\n",
    "plt.bar(x, C, color = 'r', width = 0.25)\n",
    "\n",
    "plt.show()\n"
   ]
  },
  {
   "cell_type": "markdown",
   "metadata": {},
   "source": [
    "### Gay or Straight:"
   ]
  },
  {
   "cell_type": "code",
   "execution_count": 628,
   "metadata": {
    "collapsed": true
   },
   "outputs": [],
   "source": [
    "df = pd.read_csv(\"../../Craigslist_Project/Data/Craigs_1_26\")\n",
    "df_cleaning = df[df[\"Who_to\"].notnull()]"
   ]
  },
  {
   "cell_type": "code",
   "execution_count": 635,
   "metadata": {
    "collapsed": true
   },
   "outputs": [],
   "source": [
    "df_cleaning.Who_to = df_cleaning.Who_to.map(lambda x: x.split('4'))"
   ]
  },
  {
   "cell_type": "code",
   "execution_count": 636,
   "metadata": {
    "collapsed": false,
    "scrolled": true
   },
   "outputs": [
    {
     "data": {
      "text/html": [
       "<div>\n",
       "<table border=\"1\" class=\"dataframe\">\n",
       "  <thead>\n",
       "    <tr style=\"text-align: right;\">\n",
       "      <th></th>\n",
       "      <th>Ids</th>\n",
       "      <th>Title</th>\n",
       "      <th>City</th>\n",
       "      <th>Geo_Tag</th>\n",
       "      <th>Where</th>\n",
       "      <th>Who_to</th>\n",
       "      <th>Age</th>\n",
       "      <th>Height</th>\n",
       "      <th>Body_type</th>\n",
       "      <th>Body</th>\n",
       "      <th>Datetime</th>\n",
       "      <th>Has_Image</th>\n",
       "      <th>Has_Maps</th>\n",
       "      <th>URL</th>\n",
       "      <th>Gay</th>\n",
       "    </tr>\n",
       "  </thead>\n",
       "  <tbody>\n",
       "    <tr>\n",
       "      <th>0</th>\n",
       "      <td>5.915963e+09</td>\n",
       "      <td>Turning love to hate</td>\n",
       "      <td>austin</td>\n",
       "      <td>(30.3423, -97.6673)</td>\n",
       "      <td>In the wind, along with my love</td>\n",
       "      <td>[m, w]</td>\n",
       "      <td>NaN</td>\n",
       "      <td>NaN</td>\n",
       "      <td>NaN</td>\n",
       "      <td>Imagine the effort it takes to cultivate love ...</td>\n",
       "      <td>2016-12-12 08:23</td>\n",
       "      <td>False</td>\n",
       "      <td>True</td>\n",
       "      <td>http://austin.craigslist.org/mis/5915962984.html</td>\n",
       "      <td>0</td>\n",
       "    </tr>\n",
       "    <tr>\n",
       "      <th>1</th>\n",
       "      <td>5.961141e+09</td>\n",
       "      <td>Pokémon Hunter in Van</td>\n",
       "      <td>austin</td>\n",
       "      <td>NaN</td>\n",
       "      <td>Downtown Round Rock</td>\n",
       "      <td>[m, m]</td>\n",
       "      <td>28.0</td>\n",
       "      <td>NaN</td>\n",
       "      <td>athletic</td>\n",
       "      <td>I was Pokémon Hunting downtown today it was ab...</td>\n",
       "      <td>2017-01-19 00:45</td>\n",
       "      <td>True</td>\n",
       "      <td>True</td>\n",
       "      <td>http://austin.craigslist.org/mis/5961140651.html</td>\n",
       "      <td>0</td>\n",
       "    </tr>\n",
       "  </tbody>\n",
       "</table>\n",
       "</div>"
      ],
      "text/plain": [
       "            Ids                  Title    City              Geo_Tag  \\\n",
       "0  5.915963e+09   Turning love to hate  austin  (30.3423, -97.6673)   \n",
       "1  5.961141e+09  Pokémon Hunter in Van  austin                  NaN   \n",
       "\n",
       "                             Where  Who_to   Age Height Body_type  \\\n",
       "0  In the wind, along with my love  [m, w]   NaN    NaN       NaN   \n",
       "1              Downtown Round Rock  [m, m]  28.0    NaN  athletic   \n",
       "\n",
       "                                                Body          Datetime  \\\n",
       "0  Imagine the effort it takes to cultivate love ...  2016-12-12 08:23   \n",
       "1  I was Pokémon Hunting downtown today it was ab...  2017-01-19 00:45   \n",
       "\n",
       "  Has_Image Has_Maps                                               URL  Gay  \n",
       "0     False     True  http://austin.craigslist.org/mis/5915962984.html    0  \n",
       "1      True     True  http://austin.craigslist.org/mis/5961140651.html    0  "
      ]
     },
     "execution_count": 636,
     "metadata": {},
     "output_type": "execute_result"
    }
   ],
   "source": [
    "df_cleaning.head(2)"
   ]
  },
  {
   "cell_type": "code",
   "execution_count": 672,
   "metadata": {
    "collapsed": false
   },
   "outputs": [],
   "source": [
    "count = []\n",
    "attraction = []\n",
    "for i in df_cleaning.Who_to:\n",
    "    if i[0] == 'm' and i[1] == 'm':\n",
    "        count.append(1)\n",
    "        attraction.append('Gay')    \n",
    "    else: \n",
    "        count.append(0)\n",
    "        attraction.append('Straight')\n"
   ]
  },
  {
   "cell_type": "code",
   "execution_count": 674,
   "metadata": {
    "collapsed": false
   },
   "outputs": [],
   "source": [
    "df_cleaning['Gay'] = count\n",
    "df_cleaning['attraction'] = attraction"
   ]
  },
  {
   "cell_type": "code",
   "execution_count": 675,
   "metadata": {
    "collapsed": false
   },
   "outputs": [
    {
     "data": {
      "text/plain": [
       "1469"
      ]
     },
     "execution_count": 675,
     "metadata": {},
     "output_type": "execute_result"
    }
   ],
   "source": [
    "df_cleaning.Gay.sum()"
   ]
  },
  {
   "cell_type": "code",
   "execution_count": 676,
   "metadata": {
    "collapsed": false
   },
   "outputs": [
    {
     "data": {
      "text/plain": [
       "(5180, 17)"
      ]
     },
     "execution_count": 676,
     "metadata": {},
     "output_type": "execute_result"
    }
   ],
   "source": [
    "df_cleaning.shape"
   ]
  },
  {
   "cell_type": "code",
   "execution_count": 677,
   "metadata": {
    "collapsed": false
   },
   "outputs": [
    {
     "data": {
      "text/html": [
       "<div>\n",
       "<table border=\"1\" class=\"dataframe\">\n",
       "  <thead>\n",
       "    <tr style=\"text-align: right;\">\n",
       "      <th></th>\n",
       "      <th>Ids</th>\n",
       "      <th>Title</th>\n",
       "      <th>City</th>\n",
       "      <th>Geo_Tag</th>\n",
       "      <th>Where</th>\n",
       "      <th>Who_to</th>\n",
       "      <th>Age</th>\n",
       "      <th>Height</th>\n",
       "      <th>Body_type</th>\n",
       "      <th>Body</th>\n",
       "      <th>Datetime</th>\n",
       "      <th>Has_Image</th>\n",
       "      <th>Has_Maps</th>\n",
       "      <th>URL</th>\n",
       "      <th>Gay</th>\n",
       "      <th>only_time_hour</th>\n",
       "      <th>attraction</th>\n",
       "    </tr>\n",
       "  </thead>\n",
       "  <tbody>\n",
       "    <tr>\n",
       "      <th>0</th>\n",
       "      <td>5.915963e+09</td>\n",
       "      <td>Turning love to hate</td>\n",
       "      <td>austin</td>\n",
       "      <td>(30.3423, -97.6673)</td>\n",
       "      <td>In the wind, along with my love</td>\n",
       "      <td>[m, w]</td>\n",
       "      <td>NaN</td>\n",
       "      <td>NaN</td>\n",
       "      <td>NaN</td>\n",
       "      <td>Imagine the effort it takes to cultivate love ...</td>\n",
       "      <td>2016-12-12 08:23</td>\n",
       "      <td>False</td>\n",
       "      <td>True</td>\n",
       "      <td>http://austin.craigslist.org/mis/5915962984.html</td>\n",
       "      <td>0</td>\n",
       "      <td>8</td>\n",
       "      <td>Straight</td>\n",
       "    </tr>\n",
       "    <tr>\n",
       "      <th>1</th>\n",
       "      <td>5.961141e+09</td>\n",
       "      <td>Pokémon Hunter in Van</td>\n",
       "      <td>austin</td>\n",
       "      <td>NaN</td>\n",
       "      <td>Downtown Round Rock</td>\n",
       "      <td>[m, m]</td>\n",
       "      <td>28.0</td>\n",
       "      <td>NaN</td>\n",
       "      <td>athletic</td>\n",
       "      <td>I was Pokémon Hunting downtown today it was ab...</td>\n",
       "      <td>2017-01-19 00:45</td>\n",
       "      <td>True</td>\n",
       "      <td>True</td>\n",
       "      <td>http://austin.craigslist.org/mis/5961140651.html</td>\n",
       "      <td>1</td>\n",
       "      <td>0</td>\n",
       "      <td>Gay</td>\n",
       "    </tr>\n",
       "  </tbody>\n",
       "</table>\n",
       "</div>"
      ],
      "text/plain": [
       "            Ids                  Title    City              Geo_Tag  \\\n",
       "0  5.915963e+09   Turning love to hate  austin  (30.3423, -97.6673)   \n",
       "1  5.961141e+09  Pokémon Hunter in Van  austin                  NaN   \n",
       "\n",
       "                             Where  Who_to   Age Height Body_type  \\\n",
       "0  In the wind, along with my love  [m, w]   NaN    NaN       NaN   \n",
       "1              Downtown Round Rock  [m, m]  28.0    NaN  athletic   \n",
       "\n",
       "                                                Body          Datetime  \\\n",
       "0  Imagine the effort it takes to cultivate love ...  2016-12-12 08:23   \n",
       "1  I was Pokémon Hunting downtown today it was ab...  2017-01-19 00:45   \n",
       "\n",
       "  Has_Image Has_Maps                                               URL  Gay  \\\n",
       "0     False     True  http://austin.craigslist.org/mis/5915962984.html    0   \n",
       "1      True     True  http://austin.craigslist.org/mis/5961140651.html    1   \n",
       "\n",
       "   only_time_hour attraction  \n",
       "0               8   Straight  \n",
       "1               0        Gay  "
      ]
     },
     "execution_count": 677,
     "metadata": {},
     "output_type": "execute_result"
    }
   ],
   "source": [
    "df_cleaning.head(2)"
   ]
  },
  {
   "cell_type": "code",
   "execution_count": 667,
   "metadata": {
    "collapsed": true
   },
   "outputs": [],
   "source": [
    "df_date = pd.to_datetime(pd.Series(df.Datetime))"
   ]
  },
  {
   "cell_type": "code",
   "execution_count": 670,
   "metadata": {
    "collapsed": false
   },
   "outputs": [],
   "source": [
    "df_date = pd.DataFrame(df_date)"
   ]
  },
  {
   "cell_type": "code",
   "execution_count": 671,
   "metadata": {
    "collapsed": false,
    "scrolled": true
   },
   "outputs": [],
   "source": [
    "df[\"only_time_hour\"] = [d.hour for d in df_date['Datetime']]"
   ]
  },
  {
   "cell_type": "code",
   "execution_count": 684,
   "metadata": {
    "collapsed": false
   },
   "outputs": [],
   "source": [
    "df_gay = df_cleaning.groupby(['only_time_hour','attraction'])['Ids'].count()"
   ]
  },
  {
   "cell_type": "code",
   "execution_count": 747,
   "metadata": {
    "collapsed": false
   },
   "outputs": [],
   "source": [
    "df_gay = pd.DataFrame(df_gay).reset_index()"
   ]
  },
  {
   "cell_type": "code",
   "execution_count": 748,
   "metadata": {
    "collapsed": false
   },
   "outputs": [
    {
     "data": {
      "text/html": [
       "<div>\n",
       "<table border=\"1\" class=\"dataframe\">\n",
       "  <thead>\n",
       "    <tr style=\"text-align: right;\">\n",
       "      <th></th>\n",
       "      <th>only_time_hour</th>\n",
       "      <th>attraction</th>\n",
       "      <th>Ids</th>\n",
       "    </tr>\n",
       "  </thead>\n",
       "  <tbody>\n",
       "    <tr>\n",
       "      <th>0</th>\n",
       "      <td>0</td>\n",
       "      <td>Gay</td>\n",
       "      <td>43</td>\n",
       "    </tr>\n",
       "    <tr>\n",
       "      <th>1</th>\n",
       "      <td>0</td>\n",
       "      <td>Straight</td>\n",
       "      <td>140</td>\n",
       "    </tr>\n",
       "  </tbody>\n",
       "</table>\n",
       "</div>"
      ],
      "text/plain": [
       "   only_time_hour attraction  Ids\n",
       "0               0        Gay   43\n",
       "1               0   Straight  140"
      ]
     },
     "execution_count": 748,
     "metadata": {},
     "output_type": "execute_result"
    }
   ],
   "source": [
    "df_gay.head(2)"
   ]
  },
  {
   "cell_type": "code",
   "execution_count": 749,
   "metadata": {
    "collapsed": false
   },
   "outputs": [],
   "source": [
    "df_gay = pd.pivot_table(df_gay, values='Ids', columns= 'attraction', index = 'only_time_hour').reset_index()"
   ]
  },
  {
   "cell_type": "code",
   "execution_count": 765,
   "metadata": {
    "collapsed": false
   },
   "outputs": [
    {
     "data": {
      "text/plain": [
       "<matplotlib.axes._subplots.AxesSubplot at 0x120dfdb50>"
      ]
     },
     "execution_count": 765,
     "metadata": {},
     "output_type": "execute_result"
    }
   ],
   "source": [
    "df_gay.plot.bar()"
   ]
  },
  {
   "cell_type": "code",
   "execution_count": 766,
   "metadata": {
    "collapsed": false
   },
   "outputs": [
    {
     "data": {
      "image/png": "[encoded data removed]",
      "text/plain": [
       "<matplotlib.figure.Figure at 0x121ba0f90>"
      ]
     },
     "metadata": {},
     "output_type": "display_data"
    },
    {
     "data": {
      "image/png": "[encoded data removed]",
      "text/plain": [
       "<matplotlib.figure.Figure at 0x123afd490>"
      ]
     },
     "metadata": {},
     "output_type": "display_data"
    },
    {
     "data": {
      "image/png": "[encoded data removed]",
      "text/plain": [
       "<matplotlib.figure.Figure at 0x120def190>"
      ]
     },
     "metadata": {},
     "output_type": "display_data"
    }
   ],
   "source": [
    "plt.show()"
   ]
  },
  {
   "cell_type": "code",
   "execution_count": null,
   "metadata": {
    "collapsed": true
   },
   "outputs": [],
   "source": []
  }
 ],
 "metadata": {
  "anaconda-cloud": {},
  "kernelspec": {
   "display_name": "Python [conda env:dsi]",
   "language": "python",
   "name": "conda-env-dsi-py"
  },
  "language_info": {
   "codemirror_mode": {
    "name": "ipython",
    "version": 2
   },
   "file_extension": ".py",
   "mimetype": "text/x-python",
   "name": "python",
   "nbconvert_exporter": "python",
   "pygments_lexer": "ipython2",
   "version": "2.7.12"
  }
 },
 "nbformat": 4,
 "nbformat_minor": 1
}
