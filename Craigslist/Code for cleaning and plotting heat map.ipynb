{
 "cells": [
  {
   "cell_type": "code",
   "execution_count": 3,
   "metadata": {
    "collapsed": true
   },
   "outputs": [],
   "source": [
    "import pandas as pd\n",
    "import numpy as np\n",
    "from scrapy.selector import Selector\n",
    "from scrapy.http import HtmlResponse\n",
    "import requests"
   ]
  },
  {
   "cell_type": "code",
   "execution_count": 4,
   "metadata": {
    "collapsed": false
   },
   "outputs": [],
   "source": [
    "df = pd.read_csv(\"../../Craigslist_Project/Data/Craigs_2_4\")"
   ]
  },
  {
   "cell_type": "code",
   "execution_count": 5,
   "metadata": {
    "collapsed": false
   },
   "outputs": [],
   "source": [
    "# Cleaniang Geo_Tag:\n",
    "\n",
    "location = df.Geo_Tag\n",
    "city =df.City\n",
    "df_location = pd.DataFrame([city, location]).T\n",
    "\n",
    "df_location.dropna(inplace = True)"
   ]
  },
  {
   "cell_type": "code",
   "execution_count": 6,
   "metadata": {
    "collapsed": false
   },
   "outputs": [
    {
     "data": {
      "text/plain": [
       "Ids           144\n",
       "Title         144\n",
       "City            0\n",
       "Geo_Tag      3133\n",
       "Where        1947\n",
       "Who_to        502\n",
       "Age          3808\n",
       "Height       4544\n",
       "Body_type    4122\n",
       "Body          146\n",
       "Datetime       72\n",
       "Has_Image      72\n",
       "Has_Maps       72\n",
       "URL            72\n",
       "dtype: int64"
      ]
     },
     "execution_count": 6,
     "metadata": {},
     "output_type": "execute_result"
    }
   ],
   "source": [
    "df.isnull().sum()"
   ]
  },
  {
   "cell_type": "code",
   "execution_count": 7,
   "metadata": {
    "collapsed": false,
    "scrolled": true
   },
   "outputs": [
    {
     "name": "stdout",
     "output_type": "stream",
     "text": [
      "<class 'pandas.core.frame.DataFrame'>\n",
      "RangeIndex: 8143 entries, 0 to 8142\n",
      "Data columns (total 14 columns):\n",
      "Ids          7999 non-null float64\n",
      "Title        7999 non-null object\n",
      "City         8143 non-null object\n",
      "Geo_Tag      5010 non-null object\n",
      "Where        6196 non-null object\n",
      "Who_to       7641 non-null object\n",
      "Age          4335 non-null float64\n",
      "Height       3599 non-null object\n",
      "Body_type    4021 non-null object\n",
      "Body         7997 non-null object\n",
      "Datetime     8071 non-null object\n",
      "Has_Image    8071 non-null object\n",
      "Has_Maps     8071 non-null object\n",
      "URL          8071 non-null object\n",
      "dtypes: float64(2), object(12)\n",
      "memory usage: 890.7+ KB\n"
     ]
    }
   ],
   "source": [
    "df.info()"
   ]
  },
  {
   "cell_type": "code",
   "execution_count": 8,
   "metadata": {
    "collapsed": true
   },
   "outputs": [],
   "source": [
    "# Cleaning Geo_Tag:\n",
    "\n",
    "location = df.Geo_Tag\n",
    "city =df.City\n",
    "df_location = pd.DataFrame([city, location]).T\n",
    "\n",
    "df_location.dropna(inplace = True)"
   ]
  },
  {
   "cell_type": "code",
   "execution_count": 9,
   "metadata": {
    "collapsed": false
   },
   "outputs": [
    {
     "data": {
      "text/plain": [
       "City       0\n",
       "Geo_Tag    0\n",
       "dtype: int64"
      ]
     },
     "execution_count": 9,
     "metadata": {},
     "output_type": "execute_result"
    }
   ],
   "source": [
    "df_location.isnull().sum()"
   ]
  },
  {
   "cell_type": "code",
   "execution_count": 10,
   "metadata": {
    "collapsed": true
   },
   "outputs": [],
   "source": [
    "df_location.Geo_Tag= df_location.Geo_Tag.map(lambda x: str(x))"
   ]
  },
  {
   "cell_type": "code",
   "execution_count": 11,
   "metadata": {
    "collapsed": false
   },
   "outputs": [
    {
     "data": {
      "text/plain": [
       "'30.3423'"
      ]
     },
     "execution_count": 11,
     "metadata": {},
     "output_type": "execute_result"
    }
   ],
   "source": [
    "df_location.Geo_Tag[0].split(',')[0].split('(')[1]"
   ]
  },
  {
   "cell_type": "code",
   "execution_count": 12,
   "metadata": {
    "collapsed": false
   },
   "outputs": [
    {
     "data": {
      "text/plain": [
       "' -97.6673'"
      ]
     },
     "execution_count": 12,
     "metadata": {},
     "output_type": "execute_result"
    }
   ],
   "source": [
    "df_location.Geo_Tag[0].split(',')[1].split(')')[0]"
   ]
  },
  {
   "cell_type": "code",
   "execution_count": 13,
   "metadata": {
    "collapsed": true
   },
   "outputs": [],
   "source": [
    "df_location.reset_index(drop = True, inplace=True)"
   ]
  },
  {
   "cell_type": "code",
   "execution_count": 14,
   "metadata": {
    "collapsed": true
   },
   "outputs": [
    {
     "data": {
      "text/html": [
       "<div>\n",
       "<table border=\"1\" class=\"dataframe\">\n",
       "  <thead>\n",
       "    <tr style=\"text-align: right;\">\n",
       "      <th></th>\n",
       "      <th>City</th>\n",
       "      <th>Geo_Tag</th>\n",
       "    </tr>\n",
       "  </thead>\n",
       "  <tbody>\n",
       "    <tr>\n",
       "      <th>0</th>\n",
       "      <td>austin</td>\n",
       "      <td>(30.3423, -97.6673)</td>\n",
       "    </tr>\n",
       "    <tr>\n",
       "      <th>1</th>\n",
       "      <td>austin</td>\n",
       "      <td>(30.641818, -97.617309)</td>\n",
       "    </tr>\n",
       "    <tr>\n",
       "      <th>2</th>\n",
       "      <td>austin</td>\n",
       "      <td>(30.255412, -97.762357)</td>\n",
       "    </tr>\n",
       "    <tr>\n",
       "      <th>3</th>\n",
       "      <td>austin</td>\n",
       "      <td>(30.268352, -97.740276)</td>\n",
       "    </tr>\n",
       "    <tr>\n",
       "      <th>4</th>\n",
       "      <td>austin</td>\n",
       "      <td>(30.2896, -97.7396)</td>\n",
       "    </tr>\n",
       "    <tr>\n",
       "      <th>5</th>\n",
       "      <td>austin</td>\n",
       "      <td>(30.3223, -97.739)</td>\n",
       "    </tr>\n",
       "    <tr>\n",
       "      <th>6</th>\n",
       "      <td>austin</td>\n",
       "      <td>(30.2638, -97.7166)</td>\n",
       "    </tr>\n",
       "    <tr>\n",
       "      <th>7</th>\n",
       "      <td>austin</td>\n",
       "      <td>(30.2428, -97.7658)</td>\n",
       "    </tr>\n",
       "    <tr>\n",
       "      <th>8</th>\n",
       "      <td>austin</td>\n",
       "      <td>(30.492616, -97.67704)</td>\n",
       "    </tr>\n",
       "    <tr>\n",
       "      <th>9</th>\n",
       "      <td>austin</td>\n",
       "      <td>(30.478063, -97.803286)</td>\n",
       "    </tr>\n",
       "    <tr>\n",
       "      <th>10</th>\n",
       "      <td>austin</td>\n",
       "      <td>(30.287856, -97.748215)</td>\n",
       "    </tr>\n",
       "    <tr>\n",
       "      <th>11</th>\n",
       "      <td>austin</td>\n",
       "      <td>(30.4036, -97.7526)</td>\n",
       "    </tr>\n",
       "    <tr>\n",
       "      <th>12</th>\n",
       "      <td>austin</td>\n",
       "      <td>(30.4421, -97.6299)</td>\n",
       "    </tr>\n",
       "    <tr>\n",
       "      <th>13</th>\n",
       "      <td>austin</td>\n",
       "      <td>(30.297018, -97.669144)</td>\n",
       "    </tr>\n",
       "    <tr>\n",
       "      <th>14</th>\n",
       "      <td>austin</td>\n",
       "      <td>(30.5052, -97.8203)</td>\n",
       "    </tr>\n",
       "    <tr>\n",
       "      <th>15</th>\n",
       "      <td>austin</td>\n",
       "      <td>(30.492801, -97.802246)</td>\n",
       "    </tr>\n",
       "    <tr>\n",
       "      <th>16</th>\n",
       "      <td>austin</td>\n",
       "      <td>(30.0918, -97.8534)</td>\n",
       "    </tr>\n",
       "    <tr>\n",
       "      <th>17</th>\n",
       "      <td>austin</td>\n",
       "      <td>(29.989434, -97.819691)</td>\n",
       "    </tr>\n",
       "    <tr>\n",
       "      <th>18</th>\n",
       "      <td>austin</td>\n",
       "      <td>(30.2428, -97.7658)</td>\n",
       "    </tr>\n",
       "    <tr>\n",
       "      <th>19</th>\n",
       "      <td>austin</td>\n",
       "      <td>(30.2315, -97.7223)</td>\n",
       "    </tr>\n",
       "    <tr>\n",
       "      <th>20</th>\n",
       "      <td>austin</td>\n",
       "      <td>(30.2713, -97.7426)</td>\n",
       "    </tr>\n",
       "    <tr>\n",
       "      <th>21</th>\n",
       "      <td>austin</td>\n",
       "      <td>(30.246843, -97.743913)</td>\n",
       "    </tr>\n",
       "    <tr>\n",
       "      <th>22</th>\n",
       "      <td>austin</td>\n",
       "      <td>(30.39467, -97.869232)</td>\n",
       "    </tr>\n",
       "    <tr>\n",
       "      <th>23</th>\n",
       "      <td>austin</td>\n",
       "      <td>(30.41093, -97.676182)</td>\n",
       "    </tr>\n",
       "    <tr>\n",
       "      <th>24</th>\n",
       "      <td>austin</td>\n",
       "      <td>(30.261755, -97.727112)</td>\n",
       "    </tr>\n",
       "    <tr>\n",
       "      <th>25</th>\n",
       "      <td>austin</td>\n",
       "      <td>(30.2896, -97.7396)</td>\n",
       "    </tr>\n",
       "    <tr>\n",
       "      <th>26</th>\n",
       "      <td>austin</td>\n",
       "      <td>(30.463027, -97.609577)</td>\n",
       "    </tr>\n",
       "    <tr>\n",
       "      <th>27</th>\n",
       "      <td>austin</td>\n",
       "      <td>(30.212962, -97.830044)</td>\n",
       "    </tr>\n",
       "    <tr>\n",
       "      <th>28</th>\n",
       "      <td>austin</td>\n",
       "      <td>(30.2428, -97.7658)</td>\n",
       "    </tr>\n",
       "    <tr>\n",
       "      <th>29</th>\n",
       "      <td>austin</td>\n",
       "      <td>(30.251068, -97.735367)</td>\n",
       "    </tr>\n",
       "    <tr>\n",
       "      <th>...</th>\n",
       "      <td>...</td>\n",
       "      <td>...</td>\n",
       "    </tr>\n",
       "    <tr>\n",
       "      <th>4980</th>\n",
       "      <td>sfbay</td>\n",
       "      <td>(37.851001, -122.295685)</td>\n",
       "    </tr>\n",
       "    <tr>\n",
       "      <th>4981</th>\n",
       "      <td>sfbay</td>\n",
       "      <td>(36.97505, -122.026373)</td>\n",
       "    </tr>\n",
       "    <tr>\n",
       "      <th>4982</th>\n",
       "      <td>sfbay</td>\n",
       "      <td>(37.773123, -122.412329)</td>\n",
       "    </tr>\n",
       "    <tr>\n",
       "      <th>4983</th>\n",
       "      <td>sfbay</td>\n",
       "      <td>(37.686424, -121.855589)</td>\n",
       "    </tr>\n",
       "    <tr>\n",
       "      <th>4984</th>\n",
       "      <td>sfbay</td>\n",
       "      <td>(37.7621, -122.3971)</td>\n",
       "    </tr>\n",
       "    <tr>\n",
       "      <th>4985</th>\n",
       "      <td>sfbay</td>\n",
       "      <td>(37.7974, -122.4001)</td>\n",
       "    </tr>\n",
       "    <tr>\n",
       "      <th>4986</th>\n",
       "      <td>sfbay</td>\n",
       "      <td>(37.7712, -122.4413)</td>\n",
       "    </tr>\n",
       "    <tr>\n",
       "      <th>4987</th>\n",
       "      <td>sfbay</td>\n",
       "      <td>(37.7621, -122.3971)</td>\n",
       "    </tr>\n",
       "    <tr>\n",
       "      <th>4988</th>\n",
       "      <td>sfbay</td>\n",
       "      <td>(37.760517, -122.505181)</td>\n",
       "    </tr>\n",
       "    <tr>\n",
       "      <th>4989</th>\n",
       "      <td>sfbay</td>\n",
       "      <td>(37.764744, -122.419281)</td>\n",
       "    </tr>\n",
       "    <tr>\n",
       "      <th>4990</th>\n",
       "      <td>sfbay</td>\n",
       "      <td>(37.763566, -122.457536)</td>\n",
       "    </tr>\n",
       "    <tr>\n",
       "      <th>4991</th>\n",
       "      <td>sfbay</td>\n",
       "      <td>(37.768798, -122.395667)</td>\n",
       "    </tr>\n",
       "    <tr>\n",
       "      <th>4992</th>\n",
       "      <td>sfbay</td>\n",
       "      <td>(37.79016, -122.423975)</td>\n",
       "    </tr>\n",
       "    <tr>\n",
       "      <th>4993</th>\n",
       "      <td>sfbay</td>\n",
       "      <td>(37.2803, -121.9539)</td>\n",
       "    </tr>\n",
       "    <tr>\n",
       "      <th>4994</th>\n",
       "      <td>sfbay</td>\n",
       "      <td>(37.6196, -122.4816)</td>\n",
       "    </tr>\n",
       "    <tr>\n",
       "      <th>4995</th>\n",
       "      <td>sfbay</td>\n",
       "      <td>(38.463261, -122.717599)</td>\n",
       "    </tr>\n",
       "    <tr>\n",
       "      <th>4996</th>\n",
       "      <td>sfbay</td>\n",
       "      <td>(37.7354, -122.4571)</td>\n",
       "    </tr>\n",
       "    <tr>\n",
       "      <th>4997</th>\n",
       "      <td>sfbay</td>\n",
       "      <td>(37.2458, -121.8306)</td>\n",
       "    </tr>\n",
       "    <tr>\n",
       "      <th>4998</th>\n",
       "      <td>sfbay</td>\n",
       "      <td>(37.9691, -122.5105)</td>\n",
       "    </tr>\n",
       "    <tr>\n",
       "      <th>4999</th>\n",
       "      <td>sfbay</td>\n",
       "      <td>(38.4399, -122.7096)</td>\n",
       "    </tr>\n",
       "    <tr>\n",
       "      <th>5000</th>\n",
       "      <td>sfbay</td>\n",
       "      <td>(37.6873, -121.8957)</td>\n",
       "    </tr>\n",
       "    <tr>\n",
       "      <th>5001</th>\n",
       "      <td>sfbay</td>\n",
       "      <td>(37.770036, -122.438335)</td>\n",
       "    </tr>\n",
       "    <tr>\n",
       "      <th>5002</th>\n",
       "      <td>sfbay</td>\n",
       "      <td>(37.283614, -121.90464)</td>\n",
       "    </tr>\n",
       "    <tr>\n",
       "      <th>5003</th>\n",
       "      <td>sfbay</td>\n",
       "      <td>(37.954, -122.0737)</td>\n",
       "    </tr>\n",
       "    <tr>\n",
       "      <th>5004</th>\n",
       "      <td>sfbay</td>\n",
       "      <td>(38.3309, -123.0373)</td>\n",
       "    </tr>\n",
       "    <tr>\n",
       "      <th>5005</th>\n",
       "      <td>sfbay</td>\n",
       "      <td>(37.7813, -122.4167)</td>\n",
       "    </tr>\n",
       "    <tr>\n",
       "      <th>5006</th>\n",
       "      <td>sfbay</td>\n",
       "      <td>(37.8005, -122.465)</td>\n",
       "    </tr>\n",
       "    <tr>\n",
       "      <th>5007</th>\n",
       "      <td>sfbay</td>\n",
       "      <td>(37.580497, -122.347291)</td>\n",
       "    </tr>\n",
       "    <tr>\n",
       "      <th>5008</th>\n",
       "      <td>sfbay</td>\n",
       "      <td>(37.789743, -122.404486)</td>\n",
       "    </tr>\n",
       "    <tr>\n",
       "      <th>5009</th>\n",
       "      <td>sfbay</td>\n",
       "      <td>(37.6875, -122.4388)</td>\n",
       "    </tr>\n",
       "  </tbody>\n",
       "</table>\n",
       "<p>5010 rows × 2 columns</p>\n",
       "</div>"
      ],
      "text/plain": [
       "        City                   Geo_Tag\n",
       "0     austin       (30.3423, -97.6673)\n",
       "1     austin   (30.641818, -97.617309)\n",
       "2     austin   (30.255412, -97.762357)\n",
       "3     austin   (30.268352, -97.740276)\n",
       "4     austin       (30.2896, -97.7396)\n",
       "5     austin        (30.3223, -97.739)\n",
       "6     austin       (30.2638, -97.7166)\n",
       "7     austin       (30.2428, -97.7658)\n",
       "8     austin    (30.492616, -97.67704)\n",
       "9     austin   (30.478063, -97.803286)\n",
       "10    austin   (30.287856, -97.748215)\n",
       "11    austin       (30.4036, -97.7526)\n",
       "12    austin       (30.4421, -97.6299)\n",
       "13    austin   (30.297018, -97.669144)\n",
       "14    austin       (30.5052, -97.8203)\n",
       "15    austin   (30.492801, -97.802246)\n",
       "16    austin       (30.0918, -97.8534)\n",
       "17    austin   (29.989434, -97.819691)\n",
       "18    austin       (30.2428, -97.7658)\n",
       "19    austin       (30.2315, -97.7223)\n",
       "20    austin       (30.2713, -97.7426)\n",
       "21    austin   (30.246843, -97.743913)\n",
       "22    austin    (30.39467, -97.869232)\n",
       "23    austin    (30.41093, -97.676182)\n",
       "24    austin   (30.261755, -97.727112)\n",
       "25    austin       (30.2896, -97.7396)\n",
       "26    austin   (30.463027, -97.609577)\n",
       "27    austin   (30.212962, -97.830044)\n",
       "28    austin       (30.2428, -97.7658)\n",
       "29    austin   (30.251068, -97.735367)\n",
       "...      ...                       ...\n",
       "4980   sfbay  (37.851001, -122.295685)\n",
       "4981   sfbay   (36.97505, -122.026373)\n",
       "4982   sfbay  (37.773123, -122.412329)\n",
       "4983   sfbay  (37.686424, -121.855589)\n",
       "4984   sfbay      (37.7621, -122.3971)\n",
       "4985   sfbay      (37.7974, -122.4001)\n",
       "4986   sfbay      (37.7712, -122.4413)\n",
       "4987   sfbay      (37.7621, -122.3971)\n",
       "4988   sfbay  (37.760517, -122.505181)\n",
       "4989   sfbay  (37.764744, -122.419281)\n",
       "4990   sfbay  (37.763566, -122.457536)\n",
       "4991   sfbay  (37.768798, -122.395667)\n",
       "4992   sfbay   (37.79016, -122.423975)\n",
       "4993   sfbay      (37.2803, -121.9539)\n",
       "4994   sfbay      (37.6196, -122.4816)\n",
       "4995   sfbay  (38.463261, -122.717599)\n",
       "4996   sfbay      (37.7354, -122.4571)\n",
       "4997   sfbay      (37.2458, -121.8306)\n",
       "4998   sfbay      (37.9691, -122.5105)\n",
       "4999   sfbay      (38.4399, -122.7096)\n",
       "5000   sfbay      (37.6873, -121.8957)\n",
       "5001   sfbay  (37.770036, -122.438335)\n",
       "5002   sfbay   (37.283614, -121.90464)\n",
       "5003   sfbay       (37.954, -122.0737)\n",
       "5004   sfbay      (38.3309, -123.0373)\n",
       "5005   sfbay      (37.7813, -122.4167)\n",
       "5006   sfbay       (37.8005, -122.465)\n",
       "5007   sfbay  (37.580497, -122.347291)\n",
       "5008   sfbay  (37.789743, -122.404486)\n",
       "5009   sfbay      (37.6875, -122.4388)\n",
       "\n",
       "[5010 rows x 2 columns]"
      ]
     },
     "execution_count": 14,
     "metadata": {},
     "output_type": "execute_result"
    }
   ],
   "source": [
    "df_location"
   ]
  },
  {
   "cell_type": "code",
   "execution_count": 19,
   "metadata": {
    "collapsed": false
   },
   "outputs": [],
   "source": [
    "df_location[\"Latitude\"] = 1\n",
    "df_location[\"Longitude\"] =1"
   ]
  },
  {
   "cell_type": "code",
   "execution_count": 20,
   "metadata": {
    "collapsed": false,
    "scrolled": true
   },
   "outputs": [
    {
     "name": "stderr",
     "output_type": "stream",
     "text": [
      "/Users/roshkhadka/anaconda/envs/dsi/lib/python2.7/site-packages/ipykernel/__main__.py:2: SettingWithCopyWarning: \n",
      "A value is trying to be set on a copy of a slice from a DataFrame\n",
      "\n",
      "See the caveats in the documentation: http://pandas.pydata.org/pandas-docs/stable/indexing.html#indexing-view-versus-copy\n",
      "  from ipykernel import kernelapp as app\n",
      "/Users/roshkhadka/anaconda/envs/dsi/lib/python2.7/site-packages/pandas/core/indexing.py:132: SettingWithCopyWarning: \n",
      "A value is trying to be set on a copy of a slice from a DataFrame\n",
      "\n",
      "See the caveats in the documentation: http://pandas.pydata.org/pandas-docs/stable/indexing.html#indexing-view-versus-copy\n",
      "  self._setitem_with_indexer(indexer, value)\n",
      "/Users/roshkhadka/anaconda/envs/dsi/lib/python2.7/site-packages/ipykernel/__main__.py:3: SettingWithCopyWarning: \n",
      "A value is trying to be set on a copy of a slice from a DataFrame\n",
      "\n",
      "See the caveats in the documentation: http://pandas.pydata.org/pandas-docs/stable/indexing.html#indexing-view-versus-copy\n",
      "  app.launch_new_instance()\n"
     ]
    }
   ],
   "source": [
    "for i in range(df_location.shape[0]):\n",
    "    df_location[\"Latitude\"][i] = df_location.Geo_Tag[i].split(',')[0].split('(')[1]\n",
    "    df_location[\"Longitude\"][i] = df_location.Geo_Tag[i].split(',')[1].split(')')[0]"
   ]
  },
  {
   "cell_type": "code",
   "execution_count": 21,
   "metadata": {
    "collapsed": false
   },
   "outputs": [],
   "source": [
    "df_location.Latitude = df_location.Latitude.map(lambda x: float(x))\n",
    "df_location.Longitude = df_location.Longitude.map(lambda x: float(x))"
   ]
  },
  {
   "cell_type": "code",
   "execution_count": 22,
   "metadata": {
    "collapsed": false
   },
   "outputs": [
    {
     "data": {
      "text/html": [
       "<div>\n",
       "<table border=\"1\" class=\"dataframe\">\n",
       "  <thead>\n",
       "    <tr style=\"text-align: right;\">\n",
       "      <th></th>\n",
       "      <th>City</th>\n",
       "      <th>Geo_Tag</th>\n",
       "      <th>Latitude</th>\n",
       "      <th>Longitude</th>\n",
       "    </tr>\n",
       "  </thead>\n",
       "  <tbody>\n",
       "    <tr>\n",
       "      <th>0</th>\n",
       "      <td>austin</td>\n",
       "      <td>(30.3423, -97.6673)</td>\n",
       "      <td>30.342300</td>\n",
       "      <td>-97.667300</td>\n",
       "    </tr>\n",
       "    <tr>\n",
       "      <th>1</th>\n",
       "      <td>austin</td>\n",
       "      <td>(30.641818, -97.617309)</td>\n",
       "      <td>30.641818</td>\n",
       "      <td>-97.617309</td>\n",
       "    </tr>\n",
       "    <tr>\n",
       "      <th>2</th>\n",
       "      <td>austin</td>\n",
       "      <td>(30.255412, -97.762357)</td>\n",
       "      <td>30.255412</td>\n",
       "      <td>-97.762357</td>\n",
       "    </tr>\n",
       "    <tr>\n",
       "      <th>3</th>\n",
       "      <td>austin</td>\n",
       "      <td>(30.268352, -97.740276)</td>\n",
       "      <td>30.268352</td>\n",
       "      <td>-97.740276</td>\n",
       "    </tr>\n",
       "    <tr>\n",
       "      <th>4</th>\n",
       "      <td>austin</td>\n",
       "      <td>(30.2896, -97.7396)</td>\n",
       "      <td>30.289600</td>\n",
       "      <td>-97.739600</td>\n",
       "    </tr>\n",
       "  </tbody>\n",
       "</table>\n",
       "</div>"
      ],
      "text/plain": [
       "     City                  Geo_Tag   Latitude  Longitude\n",
       "0  austin      (30.3423, -97.6673)  30.342300 -97.667300\n",
       "1  austin  (30.641818, -97.617309)  30.641818 -97.617309\n",
       "2  austin  (30.255412, -97.762357)  30.255412 -97.762357\n",
       "3  austin  (30.268352, -97.740276)  30.268352 -97.740276\n",
       "4  austin      (30.2896, -97.7396)  30.289600 -97.739600"
      ]
     },
     "execution_count": 22,
     "metadata": {},
     "output_type": "execute_result"
    }
   ],
   "source": [
    "df_location.head()"
   ]
  },
  {
   "cell_type": "code",
   "execution_count": 23,
   "metadata": {
    "collapsed": true
   },
   "outputs": [],
   "source": [
    "df_sf_location = df_location[df_location.City == \"newyork\"]\n",
    "df_sf_location.reset_index(drop = True, inplace=True)"
   ]
  },
  {
   "cell_type": "code",
   "execution_count": 25,
   "metadata": {
    "collapsed": false
   },
   "outputs": [
    {
     "ename": "IOError",
     "evalue": "[Errno 2] No such file or directory: '../Craigslist_Project/Codes/heatmap1.html'",
     "output_type": "error",
     "traceback": [
      "\u001b[0;31m---------------------------------------------------------------------------\u001b[0m",
      "\u001b[0;31mIOError\u001b[0m                                   Traceback (most recent call last)",
      "\u001b[0;32m<ipython-input-25-ff48b50b91a4>\u001b[0m in \u001b[0;36m<module>\u001b[0;34m()\u001b[0m\n\u001b[1;32m     14\u001b[0m     \u001b[0mcity_map\u001b[0m\u001b[0;34m.\u001b[0m\u001b[0madd_children\u001b[0m\u001b[0;34m(\u001b[0m\u001b[0mhm\u001b[0m\u001b[0;34m)\u001b[0m\u001b[0;34m\u001b[0m\u001b[0m\n\u001b[1;32m     15\u001b[0m \u001b[0;34m\u001b[0m\u001b[0m\n\u001b[0;32m---> 16\u001b[0;31m \u001b[0mcity_map\u001b[0m\u001b[0;34m.\u001b[0m\u001b[0msave\u001b[0m\u001b[0;34m(\u001b[0m\u001b[0;34m\"../Craigslist_Project/Codes/heatmap1.html\"\u001b[0m\u001b[0;34m)\u001b[0m\u001b[0;34m\u001b[0m\u001b[0m\n\u001b[0m\u001b[1;32m     17\u001b[0m \u001b[0;34m\u001b[0m\u001b[0m\n\u001b[1;32m     18\u001b[0m \u001b[0;31m#       hm = plugins.HeatMap()\u001b[0m\u001b[0;34m\u001b[0m\u001b[0;34m\u001b[0m\u001b[0m\n",
      "\u001b[0;32m/Users/roshkhadka/anaconda/envs/dsi/lib/python2.7/site-packages/folium/element.pyc\u001b[0m in \u001b[0;36msave\u001b[0;34m(self, outfile, close_file, **kwargs)\u001b[0m\n\u001b[1;32m    146\u001b[0m         \"\"\"\n\u001b[1;32m    147\u001b[0m         \u001b[0;32mif\u001b[0m \u001b[0misinstance\u001b[0m\u001b[0;34m(\u001b[0m\u001b[0moutfile\u001b[0m\u001b[0;34m,\u001b[0m \u001b[0mtext_type\u001b[0m\u001b[0;34m)\u001b[0m \u001b[0;32mor\u001b[0m \u001b[0misinstance\u001b[0m\u001b[0;34m(\u001b[0m\u001b[0moutfile\u001b[0m\u001b[0;34m,\u001b[0m \u001b[0mbinary_type\u001b[0m\u001b[0;34m)\u001b[0m\u001b[0;34m:\u001b[0m\u001b[0;34m\u001b[0m\u001b[0m\n\u001b[0;32m--> 148\u001b[0;31m             \u001b[0mfid\u001b[0m \u001b[0;34m=\u001b[0m \u001b[0mopen\u001b[0m\u001b[0;34m(\u001b[0m\u001b[0moutfile\u001b[0m\u001b[0;34m,\u001b[0m \u001b[0;34m'wb'\u001b[0m\u001b[0;34m)\u001b[0m\u001b[0;34m\u001b[0m\u001b[0m\n\u001b[0m\u001b[1;32m    149\u001b[0m         \u001b[0;32melse\u001b[0m\u001b[0;34m:\u001b[0m\u001b[0;34m\u001b[0m\u001b[0m\n\u001b[1;32m    150\u001b[0m             \u001b[0mfid\u001b[0m \u001b[0;34m=\u001b[0m \u001b[0moutfile\u001b[0m\u001b[0;34m\u001b[0m\u001b[0m\n",
      "\u001b[0;31mIOError\u001b[0m: [Errno 2] No such file or directory: '../Craigslist_Project/Codes/heatmap1.html'"
     ]
    }
   ],
   "source": [
    "import folium\n",
    "from folium import plugins                          \n",
    "import random\n",
    "\n",
    "city_map = folium.Map(location=[40.776253, -73.776016])\n",
    "\n",
    "data = []\n",
    "\n",
    "for each_row in range(df_sf_location.shape[0]):\n",
    "    data.append([df_sf_location.ix[each_row,'Latitude'],df_sf_location.ix[each_row,'Longitude']])\n",
    "\n",
    "for each_row in data:\n",
    "    hm = plugins.HeatMap(data, blur =40, min_opacity = 5)\n",
    "    city_map.add_children(hm)\n",
    "\n",
    "city_map.save(\"../Craigslist_Project/Codes/heatmap1.html\")\n",
    "\n",
    "#       hm = plugins.HeatMap()\n",
    "# for each_crow in range(df_sf_location.shape[0]):\n",
    "#     city_map.simple_marker(location = [df_sf_location.ix[each_row,'Latitude'],df_sf_location.ix[each_row,'Longitude']],\n",
    "#                           )\n",
    "\n",
    "# for each_row in range(df_sf_location.shape[0]):\n",
    "#     data = [df_sf_location.ix[each_row,'Latitude'],df_sf_location.ix[each_row,'Longitude']]\n",
    "#     data = ([df_sf_location.ix[each_row,'Latitude']], [df_sf_location.ix[each_row,'Longitude']])\n",
    "#       hm = plugins.HeatMap()\n",
    "#     city_map.add_children(hm)\n",
    "#     city_map.h(location = [df_sf_location.ix[each_row,'Latitude'],df_sf_location.ix[each_row,'Longitude']],\n",
    "#                           )\n",
    "#     hm = plugins.([df_sf_location.ix[each_row,'Latitude'],df_sf_location.ix[each_row,'Longitude']])\n",
    "#ity_map.add_children(hm)           "
   ]
  },
  {
   "cell_type": "code",
   "execution_count": null,
   "metadata": {
    "collapsed": true
   },
   "outputs": [],
   "source": []
  }
 ],
 "metadata": {
  "anaconda-cloud": {},
  "kernelspec": {
   "display_name": "Python [conda env:dsi]",
   "language": "python",
   "name": "conda-env-dsi-py"
  },
  "language_info": {
   "codemirror_mode": {
    "name": "ipython",
    "version": 2
   },
   "file_extension": ".py",
   "mimetype": "text/x-python",
   "name": "python",
   "nbconvert_exporter": "python",
   "pygments_lexer": "ipython2",
   "version": "2.7.12"
  }
 },
 "nbformat": 4,
 "nbformat_minor": 1
}
