{
 "cells": [
  {
   "cell_type": "code",
   "execution_count": 1,
   "metadata": {
    "scrolled": true
   },
   "outputs": [
    {
     "name": "stderr",
     "output_type": "stream",
     "text": [
      "Using Theano backend.\n"
     ]
    }
   ],
   "source": [
    "import pandas as pd\n",
    "import numpy as np\n",
    "import scipy"
   ]
  },
  {
   "cell_type": "code",
   "execution_count": 2,
   "metadata": {
    "collapsed": true
   },
   "outputs": [],
   "source": [
    "import theano"
   ]
  },
  {
   "cell_type": "code",
   "execution_count": 3,
   "metadata": {},
   "outputs": [],
   "source": [
    "import matplotlib.pyplot as plt\n",
    "import matplotlib.image as mpimg\n",
    "import numpy\n",
    "from scipy import ndimage\n",
    "import glob"
   ]
  },
  {
   "cell_type": "code",
   "execution_count": 5,
   "metadata": {},
   "outputs": [],
   "source": [
    "from skimage.io import imread\n",
    "# im = imread('../../DSI-SF-4-Rashimk/Cap_Stone_Project/test_mine/img_00007.jpg')"
   ]
  },
  {
   "cell_type": "code",
   "execution_count": 12,
   "metadata": {},
   "outputs": [
    {
     "name": "stdout",
     "output_type": "stream",
     "text": [
      "../Cap_Stone_Project/test_mine/img_00005.jpg\n",
      "../Cap_Stone_Project/test_mine/img_00007.jpg\n",
      "../Cap_Stone_Project/test_mine/img_00009.jpg\n",
      "../Cap_Stone_Project/test_mine/img_00018.jpg\n",
      "../Cap_Stone_Project/test_mine/img_00027.jpg\n",
      "../Cap_Stone_Project/test_mine/img_00030.jpg\n",
      "../Cap_Stone_Project/test_mine/img_00040.jpg\n",
      "../Cap_Stone_Project/test_mine/img_00046.jpg\n",
      "../Cap_Stone_Project/test_mine/img_00053.jpg\n",
      "../Cap_Stone_Project/test_mine/img_00071.jpg\n",
      "../Cap_Stone_Project/test_mine/img_00075.jpg\n",
      "../Cap_Stone_Project/test_mine/img_00102.jpg\n",
      "../Cap_Stone_Project/test_mine/img_00103.jpg\n",
      "../Cap_Stone_Project/test_mine/img_00109.jpg\n",
      "../Cap_Stone_Project/test_mine/img_00119.jpg\n",
      "../Cap_Stone_Project/test_mine/img_00120.jpg\n",
      "../Cap_Stone_Project/test_mine/img_00125.jpg\n",
      "../Cap_Stone_Project/test_mine/img_00128.jpg\n",
      "../Cap_Stone_Project/test_mine/img_00129.jpg\n",
      "../Cap_Stone_Project/test_mine/img_00133.jpg\n",
      "../Cap_Stone_Project/test_mine/img_00138.jpg\n",
      "../Cap_Stone_Project/test_mine/img_00141.jpg\n",
      "../Cap_Stone_Project/test_mine/img_00152.jpg\n",
      "../Cap_Stone_Project/test_mine/img_00161.jpg\n",
      "../Cap_Stone_Project/test_mine/img_00164.jpg\n",
      "../Cap_Stone_Project/test_mine/img_00170.jpg\n",
      "../Cap_Stone_Project/test_mine/img_00171.jpg\n",
      "../Cap_Stone_Project/test_mine/img_00172.jpg\n",
      "../Cap_Stone_Project/test_mine/img_00175.jpg\n",
      "../Cap_Stone_Project/test_mine/img_00180.jpg\n",
      "../Cap_Stone_Project/test_mine/img_00196.jpg\n",
      "../Cap_Stone_Project/test_mine/img_00212.jpg\n",
      "../Cap_Stone_Project/test_mine/img_00223.jpg\n",
      "../Cap_Stone_Project/test_mine/img_00230.jpg\n",
      "../Cap_Stone_Project/test_mine/img_00232.jpg\n",
      "../Cap_Stone_Project/test_mine/img_00244.jpg\n",
      "../Cap_Stone_Project/test_mine/img_00272.jpg\n",
      "../Cap_Stone_Project/test_mine/img_00280.jpg\n",
      "../Cap_Stone_Project/test_mine/img_00282.jpg\n",
      "../Cap_Stone_Project/test_mine/img_00285.jpg\n",
      "../Cap_Stone_Project/test_mine/img_00289.jpg\n",
      "../Cap_Stone_Project/test_mine/img_00292.jpg\n",
      "../Cap_Stone_Project/test_mine/img_00302.jpg\n",
      "../Cap_Stone_Project/test_mine/img_00311.jpg\n",
      "../Cap_Stone_Project/test_mine/img_00320.jpg\n",
      "../Cap_Stone_Project/test_mine/img_00331.jpg\n",
      "../Cap_Stone_Project/test_mine/img_00358.jpg\n",
      "../Cap_Stone_Project/test_mine/img_00374.jpg\n",
      "../Cap_Stone_Project/test_mine/img_00375.jpg\n",
      "../Cap_Stone_Project/test_mine/img_00376.jpg\n",
      "../Cap_Stone_Project/test_mine/img_00380.jpg\n",
      "../Cap_Stone_Project/test_mine/img_00383.jpg\n",
      "../Cap_Stone_Project/test_mine/img_00398.jpg\n",
      "../Cap_Stone_Project/test_mine/img_00407.jpg\n",
      "../Cap_Stone_Project/test_mine/img_00417.jpg\n",
      "../Cap_Stone_Project/test_mine/img_00432.jpg\n",
      "../Cap_Stone_Project/test_mine/img_00442.jpg\n",
      "../Cap_Stone_Project/test_mine/img_00446.jpg\n",
      "../Cap_Stone_Project/test_mine/img_00469.jpg\n",
      "../Cap_Stone_Project/test_mine/img_00473.jpg\n",
      "../Cap_Stone_Project/test_mine/img_00483.jpg\n",
      "../Cap_Stone_Project/test_mine/img_00484.jpg\n",
      "../Cap_Stone_Project/test_mine/img_00486.jpg\n",
      "../Cap_Stone_Project/test_mine/img_00487.jpg\n",
      "../Cap_Stone_Project/test_mine/img_00493.jpg\n",
      "../Cap_Stone_Project/test_mine/img_00518.jpg\n",
      "../Cap_Stone_Project/test_mine/img_00533.jpg\n",
      "../Cap_Stone_Project/test_mine/img_00538.jpg\n",
      "../Cap_Stone_Project/test_mine/img_00543.jpg\n",
      "../Cap_Stone_Project/test_mine/img_00550.jpg\n",
      "../Cap_Stone_Project/test_mine/img_00551.jpg\n",
      "../Cap_Stone_Project/test_mine/img_00564.jpg\n",
      "../Cap_Stone_Project/test_mine/img_00575.jpg\n",
      "../Cap_Stone_Project/test_mine/img_00582.jpg\n",
      "../Cap_Stone_Project/test_mine/img_00584.jpg\n",
      "../Cap_Stone_Project/test_mine/img_00587.jpg\n",
      "../Cap_Stone_Project/test_mine/img_00590.jpg\n",
      "../Cap_Stone_Project/test_mine/img_00591.jpg\n",
      "../Cap_Stone_Project/test_mine/img_00598.jpg\n",
      "../Cap_Stone_Project/test_mine/img_00599.jpg\n",
      "../Cap_Stone_Project/test_mine/img_00612.jpg\n",
      "../Cap_Stone_Project/test_mine/img_00618.jpg\n",
      "../Cap_Stone_Project/test_mine/img_00620.jpg\n",
      "../Cap_Stone_Project/test_mine/img_00642.jpg\n",
      "../Cap_Stone_Project/test_mine/img_00646.jpg\n",
      "../Cap_Stone_Project/test_mine/img_00648.jpg\n",
      "../Cap_Stone_Project/test_mine/img_00650.jpg\n",
      "../Cap_Stone_Project/test_mine/img_00654.jpg\n",
      "../Cap_Stone_Project/test_mine/img_00664.jpg\n",
      "../Cap_Stone_Project/test_mine/img_00667.jpg\n",
      "../Cap_Stone_Project/test_mine/img_00676.jpg\n",
      "../Cap_Stone_Project/test_mine/img_00697.jpg\n",
      "../Cap_Stone_Project/test_mine/img_00708.jpg\n",
      "../Cap_Stone_Project/test_mine/img_00716.jpg\n",
      "../Cap_Stone_Project/test_mine/img_00717.jpg\n",
      "../Cap_Stone_Project/test_mine/img_00718.jpg\n",
      "../Cap_Stone_Project/test_mine/img_00723.jpg\n",
      "../Cap_Stone_Project/test_mine/img_00724.jpg\n",
      "../Cap_Stone_Project/test_mine/img_00726.jpg\n",
      "../Cap_Stone_Project/test_mine/img_00729.jpg\n"
     ]
    }
   ],
   "source": [
    "# Extracting and converting the images from test_mine into sobel(black and white format) which saves it to untitled\n",
    "# folder in the desktop\n",
    "      \n",
    "path = r'../Cap_Stone_Project/test_mine/'\n",
    "filenames = glob.glob(path + \"/*.jpg\")\n",
    "\n",
    "num = 0\n",
    "for filename in filenames:\n",
    "    print filename\n",
    "    im = scipy.misc.imread(filename)\n",
    "    im = im.astype('int32')\n",
    "    dx = ndimage.sobel(im, 1)  # horizontal derivative\n",
    "    dy = ndimage.sobel(im, 0)  # vertical derivative\n",
    "    mag = numpy.hypot(dx, dy)  # magnitude\n",
    "    mag *= 240.0 / numpy.max(mag)\n",
    "    scipy.misc.imsave('../../untitled folder/'+str(num)+'.jpg', mag)\n",
    "    num = num + 1\n",
    "    "
   ]
  },
  {
   "cell_type": "code",
   "execution_count": 36,
   "metadata": {
    "scrolled": true
   },
   "outputs": [],
   "source": [
    "test_image = []\n",
    "train_image = []\n",
    "\n",
    "path = r'../Cap_Stone_Project/test_mine/'\n",
    "filenames = glob.glob(path + \"/*.jpg\")\n",
    "\n",
    "path1 = r'../../../Desktop/fish_train/'\n",
    "filenames1 = glob.glob(path1 + \"/*.jpg\")\n",
    "\n",
    "\n",
    "for filename in filenames:\n",
    "    test_image.append(mpimg.imread(filename))\n",
    "    \n",
    "for filename in filenames1:\n",
    "    train_image.append(mpimg.imread(filename))"
   ]
  },
  {
   "cell_type": "code",
   "execution_count": 37,
   "metadata": {},
   "outputs": [],
   "source": [
    "# try to figure these out later\n",
    "# from skimage.data import camera\n",
    "# from skimage.filters import roberts, sobel, scharr, prewitt\n"
   ]
  },
  {
   "cell_type": "code",
   "execution_count": 38,
   "metadata": {},
   "outputs": [],
   "source": [
    "from keras.preprocessing.image import ImageDataGenerator, array_to_img, img_to_array, load_img\n",
    "\n",
    "datagen = ImageDataGenerator(\n",
    "        rotation_range=40,\n",
    "        width_shift_range=0.2,\n",
    "        height_shift_range=0.2,\n",
    "        shear_range=0.2,\n",
    "        zoom_range=0.2,\n",
    "        horizontal_flip=True,\n",
    "        fill_mode='nearest')\n"
   ]
  },
  {
   "cell_type": "code",
   "execution_count": 40,
   "metadata": {
    "collapsed": true
   },
   "outputs": [],
   "source": [
    "from keras.preprocessing.image import ImageDataGenerator\n",
    "from keras.models import Sequential\n",
    "from keras.layers import Convolution2D, MaxPooling2D\n",
    "from keras.layers import Activation, Dropout, Flatten, Dense\n",
    "\n",
    "model = Sequential()\n",
    "model.add(Convolution2D(32, 3, 3, input_shape=(3, 150, 150)))\n",
    "model.add(Activation('relu'))\n",
    "model.add(MaxPooling2D(pool_size=(2, 2)))\n",
    "\n",
    "model.add(Convolution2D(32, 3, 3))\n",
    "model.add(Activation('relu'))\n",
    "model.add(MaxPooling2D(pool_size=(2, 2)))\n",
    "\n",
    "model.add(Convolution2D(64, 3, 3))\n",
    "model.add(Activation('relu'))\n",
    "model.add(MaxPooling2D(pool_size=(2, 2)))\n",
    "\n",
    "# the model so far outputs 3D feature maps (height, width, features)"
   ]
  },
  {
   "cell_type": "code",
   "execution_count": 41,
   "metadata": {
    "collapsed": true
   },
   "outputs": [],
   "source": [
    "model.add(Flatten())  # this converts our 3D feature maps to 1D feature vectors\n",
    "model.add(Dense(64))\n",
    "model.add(Activation('relu'))\n",
    "model.add(Dropout(0.5))\n",
    "model.add(Dense(1))\n",
    "model.add(Activation('sigmoid'))\n",
    "\n",
    "model.compile(loss='binary_crossentropy',\n",
    "              optimizer='rmsprop',\n",
    "              metrics=['accuracy'])"
   ]
  },
  {
   "cell_type": "code",
   "execution_count": 42,
   "metadata": {
    "collapsed": true
   },
   "outputs": [],
   "source": [
    "# this is the augmentation configuration we will use for training\n",
    "train_datagen = ImageDataGenerator(\n",
    "        rescale=1./255,\n",
    "        shear_range=0.2,\n",
    "        zoom_range=0.2,\n",
    "        horizontal_flip=True)\n"
   ]
  },
  {
   "cell_type": "code",
   "execution_count": 43,
   "metadata": {
    "collapsed": true
   },
   "outputs": [],
   "source": [
    "# this is the augmentation configuration we will use for testing:\n",
    "# only rescaling\n",
    "test_datagen = ImageDataGenerator(rescale=1./255)"
   ]
  },
  {
   "cell_type": "code",
   "execution_count": 44,
   "metadata": {},
   "outputs": [
    {
     "name": "stdout",
     "output_type": "stream",
     "text": [
      "Found 3665 images belonging to 8 classes.\n"
     ]
    }
   ],
   "source": [
    "# this is a generator that will read pictures found in\n",
    "# subfolers of 'data/train', and indefinitely generate\n",
    "# batches of augmented image data\n",
    "train_generator = train_datagen.flow_from_directory(\n",
    "        '../../DSI-SF-4-Rashimk/Cap_Stone_Project/DATA/Train/',                                       # this is the target directory\n",
    "        target_size=(150, 150),                             # all images will be resized to 150x150\n",
    "        batch_size=32,\n",
    "        class_mode='binary')                                # since we use binary_crossentropy loss, \n",
    "                                                            # we need binary labels\n"
   ]
  },
  {
   "cell_type": "code",
   "execution_count": 45,
   "metadata": {},
   "outputs": [
    {
     "name": "stdout",
     "output_type": "stream",
     "text": [
      "Found 112 images belonging to 8 classes.\n"
     ]
    }
   ],
   "source": [
    "# this is a similar generator, for validation data\n",
    "validation_generator = test_datagen.flow_from_directory(\n",
    "        '../../../Desktop/DSI-SF-4-Rashimk/Cap_Stone_Project/DATA/Validation1/',\n",
    "        target_size=(150, 150),\n",
    "        batch_size=32,\n",
    "        class_mode='binary')"
   ]
  },
  {
   "cell_type": "code",
   "execution_count": 46,
   "metadata": {},
   "outputs": [
    {
     "name": "stdout",
     "output_type": "stream",
     "text": [
      "Epoch 1/5\n",
      "2016/2000 [==============================] - 205s - loss: -25.7240 - acc: 0.0551 - val_loss: -40.6765 - val_acc: 0.1348\n",
      "Epoch 2/5\n",
      "2001/2000 [==============================] - 178s - loss: -26.8336 - acc: 0.0485 - val_loss: -40.6765 - val_acc: 0.1348\n",
      "Epoch 3/5\n",
      "2016/2000 [==============================] - 179s - loss: -26.6814 - acc: 0.0486 - val_loss: -41.0087 - val_acc: 0.1360\n",
      "Epoch 4/5\n",
      "2001/2000 [==============================] - 182s - loss: -26.1404 - acc: 0.0510 - val_loss: -40.5984 - val_acc: 0.1311\n",
      "Epoch 5/5\n",
      "2016/2000 [==============================] - 186s - loss: -27.3931 - acc: 0.0496 - val_loss: -40.6570 - val_acc: 0.1336\n"
     ]
    }
   ],
   "source": [
    "model.fit_generator(\n",
    "        train_generator,\n",
    "        samples_per_epoch=2000,\n",
    "        nb_epoch=5,\n",
    "        validation_data=validation_generator,\n",
    "        nb_val_samples=800)\n",
    "model.save_weights('../Cap_Stone_Project/first_try1.h5')  # always save your weights after training or during training"
   ]
  },
  {
   "cell_type": "code",
   "execution_count": null,
   "metadata": {
    "collapsed": true
   },
   "outputs": [],
   "source": []
  }
 ],
 "metadata": {
  "anaconda-cloud": {},
  "kernelspec": {
   "display_name": "Python 2",
   "language": "python",
   "name": "python2"
  },
  "language_info": {
   "codemirror_mode": {
    "name": "ipython",
    "version": 2
   },
   "file_extension": ".py",
   "mimetype": "text/x-python",
   "name": "python",
   "nbconvert_exporter": "python",
   "pygments_lexer": "ipython2",
   "version": "2.7.13"
  }
 },
 "nbformat": 4,
 "nbformat_minor": 1
}
